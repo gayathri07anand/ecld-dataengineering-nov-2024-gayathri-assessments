{
 "cells": [
  {
   "cell_type": "code",
   "execution_count": 9,
   "metadata": {},
   "outputs": [
    {
     "name": "stdout",
     "output_type": "stream",
     "text": [
      "Requirement already satisfied: pandas in d:\\edstem\\python\\python excercises\\pr-venv\\lib\\site-packages (2.2.3)\n",
      "Requirement already satisfied: numpy>=1.26.0 in d:\\edstem\\python\\python excercises\\pr-venv\\lib\\site-packages (from pandas) (2.1.3)\n",
      "Requirement already satisfied: python-dateutil>=2.8.2 in d:\\edstem\\python\\python excercises\\pr-venv\\lib\\site-packages (from pandas) (2.9.0.post0)\n",
      "Requirement already satisfied: pytz>=2020.1 in d:\\edstem\\python\\python excercises\\pr-venv\\lib\\site-packages (from pandas) (2024.2)\n",
      "Requirement already satisfied: tzdata>=2022.7 in d:\\edstem\\python\\python excercises\\pr-venv\\lib\\site-packages (from pandas) (2024.2)\n",
      "Requirement already satisfied: six>=1.5 in d:\\edstem\\python\\python excercises\\pr-venv\\lib\\site-packages (from python-dateutil>=2.8.2->pandas) (1.17.0)\n",
      "Note: you may need to restart the kernel to use updated packages.\n"
     ]
    },
    {
     "name": "stderr",
     "output_type": "stream",
     "text": [
      "\n",
      "[notice] A new release of pip is available: 24.2 -> 24.3.1\n",
      "[notice] To update, run: d:\\Edstem\\Python\\Python Excercises\\pr-venv\\Scripts\\python.exe -m pip install --upgrade pip\n"
     ]
    }
   ],
   "source": [
    "pip install pandas"
   ]
  },
  {
   "cell_type": "code",
   "execution_count": 10,
   "metadata": {},
   "outputs": [],
   "source": [
    "import pandas as pd"
   ]
  },
  {
   "cell_type": "code",
   "execution_count": 11,
   "metadata": {},
   "outputs": [],
   "source": [
    "import numpy as np\n",
    "from datetime import datetime, timedelta"
   ]
  },
  {
   "cell_type": "code",
   "execution_count": 12,
   "metadata": {},
   "outputs": [],
   "source": [
    "np.random.seed(42)\n"
   ]
  },
  {
   "cell_type": "code",
   "execution_count": 17,
   "metadata": {},
   "outputs": [],
   "source": [
    "# Generate product data\n",
    "def generate_product_data(n_products=100):\n",
    "    categories = ['Electronics', 'Clothing', 'Books', 'Home', 'Beauty']\n",
    "    products = pd.DataFrame({\n",
    "    'product_id': range(1, n_products + 1),\n",
    "    'category': np.random.choice(categories, size=n_products),\n",
    "    'price': np.random.uniform(10, 1000, size=n_products).round(2),\n",
    "    'stock_level': np.random.randint(0, 200, size=n_products)\n",
    "    })\n",
    "    return products"
   ]
  },
  {
   "cell_type": "code",
   "execution_count": 19,
   "metadata": {},
   "outputs": [
    {
     "data": {
      "text/plain": [
       "function"
      ]
     },
     "execution_count": 19,
     "metadata": {},
     "output_type": "execute_result"
    }
   ],
   "source": [
    "type(generate_product_data)"
   ]
  },
  {
   "cell_type": "code",
   "execution_count": 23,
   "metadata": {},
   "outputs": [],
   "source": [
    "# Generate sales data for 6 months\n",
    "def generate_sales_data(products, start_date='2023-07-01', end_date='2023-12-31'):\n",
    "    dates = pd.date_range(start=start_date, end=end_date)\n",
    "    sales_list = []\n",
    "    for date in dates:\n",
    "# Generate more sales for weekends\n",
    "        n_sales = np.random.randint(\n",
    "        50, 100 if date.weekday() >= 5 else 80\n",
    "        )\n",
    "        daily_sales = pd.DataFrame({\n",
    "        'date': [date] * n_sales,\n",
    "         'product_id': np.random.choice(products['product_id'], size=n_sales),\n",
    "        'quantity': np.random.randint(1, 5, size=n_sales),\n",
    "        'discount_applied': np.random.choice([0, 1], size=n_sales, p=[0.7, 0.3])\n",
    "        })\n",
    "        sales_list.append(daily_sales)\n",
    "        sales_df = pd.concat(sales_list, ignore_index=True)\n",
    "        sales_df['returned'] = np.random.choice(\n",
    "          [0, 1],\n",
    "        size=len(sales_df),\n",
    "        p=[0.95, 0.05] # 5% return rate\n",
    "        )\n",
    "        return sales_df\n",
    "        "
   ]
  },
  {
   "cell_type": "code",
   "execution_count": 24,
   "metadata": {},
   "outputs": [],
   "source": [
    "\n",
    "# Generate the datasets\n",
    "products_df = generate_product_data()\n",
    "sales_df = generate_sales_data(products_df)"
   ]
  },
  {
   "cell_type": "code",
   "execution_count": 25,
   "metadata": {},
   "outputs": [],
   "source": [
    "# Generate the datasets\n",
    "products_df = generate_product_data()\n",
    "sales_df = generate_sales_data(products_df)"
   ]
  },
  {
   "cell_type": "code",
   "execution_count": 26,
   "metadata": {},
   "outputs": [
    {
     "data": {
      "text/html": [
       "<div>\n",
       "<style scoped>\n",
       "    .dataframe tbody tr th:only-of-type {\n",
       "        vertical-align: middle;\n",
       "    }\n",
       "\n",
       "    .dataframe tbody tr th {\n",
       "        vertical-align: top;\n",
       "    }\n",
       "\n",
       "    .dataframe thead th {\n",
       "        text-align: right;\n",
       "    }\n",
       "</style>\n",
       "<table border=\"1\" class=\"dataframe\">\n",
       "  <thead>\n",
       "    <tr style=\"text-align: right;\">\n",
       "      <th></th>\n",
       "      <th>product_id</th>\n",
       "      <th>category</th>\n",
       "      <th>price</th>\n",
       "      <th>stock_level</th>\n",
       "    </tr>\n",
       "  </thead>\n",
       "  <tbody>\n",
       "    <tr>\n",
       "      <th>0</th>\n",
       "      <td>1</td>\n",
       "      <td>Electronics</td>\n",
       "      <td>466.17</td>\n",
       "      <td>171</td>\n",
       "    </tr>\n",
       "    <tr>\n",
       "      <th>1</th>\n",
       "      <td>2</td>\n",
       "      <td>Beauty</td>\n",
       "      <td>214.27</td>\n",
       "      <td>129</td>\n",
       "    </tr>\n",
       "    <tr>\n",
       "      <th>2</th>\n",
       "      <td>3</td>\n",
       "      <td>Home</td>\n",
       "      <td>370.63</td>\n",
       "      <td>12</td>\n",
       "    </tr>\n",
       "    <tr>\n",
       "      <th>3</th>\n",
       "      <td>4</td>\n",
       "      <td>Electronics</td>\n",
       "      <td>508.38</td>\n",
       "      <td>167</td>\n",
       "    </tr>\n",
       "    <tr>\n",
       "      <th>4</th>\n",
       "      <td>5</td>\n",
       "      <td>Beauty</td>\n",
       "      <td>693.49</td>\n",
       "      <td>129</td>\n",
       "    </tr>\n",
       "    <tr>\n",
       "      <th>...</th>\n",
       "      <td>...</td>\n",
       "      <td>...</td>\n",
       "      <td>...</td>\n",
       "      <td>...</td>\n",
       "    </tr>\n",
       "    <tr>\n",
       "      <th>95</th>\n",
       "      <td>96</td>\n",
       "      <td>Clothing</td>\n",
       "      <td>537.26</td>\n",
       "      <td>96</td>\n",
       "    </tr>\n",
       "    <tr>\n",
       "      <th>96</th>\n",
       "      <td>97</td>\n",
       "      <td>Beauty</td>\n",
       "      <td>61.31</td>\n",
       "      <td>154</td>\n",
       "    </tr>\n",
       "    <tr>\n",
       "      <th>97</th>\n",
       "      <td>98</td>\n",
       "      <td>Beauty</td>\n",
       "      <td>343.24</td>\n",
       "      <td>182</td>\n",
       "    </tr>\n",
       "    <tr>\n",
       "      <th>98</th>\n",
       "      <td>99</td>\n",
       "      <td>Electronics</td>\n",
       "      <td>143.07</td>\n",
       "      <td>32</td>\n",
       "    </tr>\n",
       "    <tr>\n",
       "      <th>99</th>\n",
       "      <td>100</td>\n",
       "      <td>Beauty</td>\n",
       "      <td>72.74</td>\n",
       "      <td>195</td>\n",
       "    </tr>\n",
       "  </tbody>\n",
       "</table>\n",
       "<p>100 rows × 4 columns</p>\n",
       "</div>"
      ],
      "text/plain": [
       "    product_id     category   price  stock_level\n",
       "0            1  Electronics  466.17          171\n",
       "1            2       Beauty  214.27          129\n",
       "2            3         Home  370.63           12\n",
       "3            4  Electronics  508.38          167\n",
       "4            5       Beauty  693.49          129\n",
       "..         ...          ...     ...          ...\n",
       "95          96     Clothing  537.26           96\n",
       "96          97       Beauty   61.31          154\n",
       "97          98       Beauty  343.24          182\n",
       "98          99  Electronics  143.07           32\n",
       "99         100       Beauty   72.74          195\n",
       "\n",
       "[100 rows x 4 columns]"
      ]
     },
     "execution_count": 26,
     "metadata": {},
     "output_type": "execute_result"
    }
   ],
   "source": [
    "products_df"
   ]
  },
  {
   "cell_type": "code",
   "execution_count": 27,
   "metadata": {},
   "outputs": [
    {
     "data": {
      "text/html": [
       "<div>\n",
       "<style scoped>\n",
       "    .dataframe tbody tr th:only-of-type {\n",
       "        vertical-align: middle;\n",
       "    }\n",
       "\n",
       "    .dataframe tbody tr th {\n",
       "        vertical-align: top;\n",
       "    }\n",
       "\n",
       "    .dataframe thead th {\n",
       "        text-align: right;\n",
       "    }\n",
       "</style>\n",
       "<table border=\"1\" class=\"dataframe\">\n",
       "  <thead>\n",
       "    <tr style=\"text-align: right;\">\n",
       "      <th></th>\n",
       "      <th>date</th>\n",
       "      <th>product_id</th>\n",
       "      <th>quantity</th>\n",
       "      <th>discount_applied</th>\n",
       "      <th>returned</th>\n",
       "    </tr>\n",
       "  </thead>\n",
       "  <tbody>\n",
       "    <tr>\n",
       "      <th>0</th>\n",
       "      <td>2023-07-01</td>\n",
       "      <td>66</td>\n",
       "      <td>2</td>\n",
       "      <td>0</td>\n",
       "      <td>1</td>\n",
       "    </tr>\n",
       "    <tr>\n",
       "      <th>1</th>\n",
       "      <td>2023-07-01</td>\n",
       "      <td>10</td>\n",
       "      <td>4</td>\n",
       "      <td>0</td>\n",
       "      <td>0</td>\n",
       "    </tr>\n",
       "    <tr>\n",
       "      <th>2</th>\n",
       "      <td>2023-07-01</td>\n",
       "      <td>5</td>\n",
       "      <td>2</td>\n",
       "      <td>0</td>\n",
       "      <td>0</td>\n",
       "    </tr>\n",
       "    <tr>\n",
       "      <th>3</th>\n",
       "      <td>2023-07-01</td>\n",
       "      <td>74</td>\n",
       "      <td>3</td>\n",
       "      <td>0</td>\n",
       "      <td>0</td>\n",
       "    </tr>\n",
       "    <tr>\n",
       "      <th>4</th>\n",
       "      <td>2023-07-01</td>\n",
       "      <td>97</td>\n",
       "      <td>1</td>\n",
       "      <td>0</td>\n",
       "      <td>1</td>\n",
       "    </tr>\n",
       "    <tr>\n",
       "      <th>...</th>\n",
       "      <td>...</td>\n",
       "      <td>...</td>\n",
       "      <td>...</td>\n",
       "      <td>...</td>\n",
       "      <td>...</td>\n",
       "    </tr>\n",
       "    <tr>\n",
       "      <th>66</th>\n",
       "      <td>2023-07-01</td>\n",
       "      <td>23</td>\n",
       "      <td>1</td>\n",
       "      <td>0</td>\n",
       "      <td>0</td>\n",
       "    </tr>\n",
       "    <tr>\n",
       "      <th>67</th>\n",
       "      <td>2023-07-01</td>\n",
       "      <td>1</td>\n",
       "      <td>4</td>\n",
       "      <td>1</td>\n",
       "      <td>0</td>\n",
       "    </tr>\n",
       "    <tr>\n",
       "      <th>68</th>\n",
       "      <td>2023-07-01</td>\n",
       "      <td>46</td>\n",
       "      <td>2</td>\n",
       "      <td>0</td>\n",
       "      <td>0</td>\n",
       "    </tr>\n",
       "    <tr>\n",
       "      <th>69</th>\n",
       "      <td>2023-07-01</td>\n",
       "      <td>21</td>\n",
       "      <td>2</td>\n",
       "      <td>1</td>\n",
       "      <td>0</td>\n",
       "    </tr>\n",
       "    <tr>\n",
       "      <th>70</th>\n",
       "      <td>2023-07-01</td>\n",
       "      <td>90</td>\n",
       "      <td>4</td>\n",
       "      <td>0</td>\n",
       "      <td>0</td>\n",
       "    </tr>\n",
       "  </tbody>\n",
       "</table>\n",
       "<p>71 rows × 5 columns</p>\n",
       "</div>"
      ],
      "text/plain": [
       "         date  product_id  quantity  discount_applied  returned\n",
       "0  2023-07-01          66         2                 0         1\n",
       "1  2023-07-01          10         4                 0         0\n",
       "2  2023-07-01           5         2                 0         0\n",
       "3  2023-07-01          74         3                 0         0\n",
       "4  2023-07-01          97         1                 0         1\n",
       "..        ...         ...       ...               ...       ...\n",
       "66 2023-07-01          23         1                 0         0\n",
       "67 2023-07-01           1         4                 1         0\n",
       "68 2023-07-01          46         2                 0         0\n",
       "69 2023-07-01          21         2                 1         0\n",
       "70 2023-07-01          90         4                 0         0\n",
       "\n",
       "[71 rows x 5 columns]"
      ]
     },
     "execution_count": 27,
     "metadata": {},
     "output_type": "execute_result"
    }
   ],
   "source": [
    "sales_df"
   ]
  },
  {
   "cell_type": "code",
   "execution_count": 31,
   "metadata": {},
   "outputs": [
    {
     "data": {
      "text/plain": [
       "0     False\n",
       "1     False\n",
       "2     False\n",
       "3     False\n",
       "4     False\n",
       "      ...  \n",
       "66    False\n",
       "67    False\n",
       "68    False\n",
       "69    False\n",
       "70    False\n",
       "Length: 71, dtype: bool"
      ]
     },
     "execution_count": 31,
     "metadata": {},
     "output_type": "execute_result"
    }
   ],
   "source": [
    "sales_df.duplicated()"
   ]
  },
  {
   "cell_type": "code",
   "execution_count": 32,
   "metadata": {},
   "outputs": [
    {
     "data": {
      "text/plain": [
       "0     False\n",
       "1     False\n",
       "2     False\n",
       "3     False\n",
       "4     False\n",
       "      ...  \n",
       "95    False\n",
       "96    False\n",
       "97    False\n",
       "98    False\n",
       "99    False\n",
       "Length: 100, dtype: bool"
      ]
     },
     "execution_count": 32,
     "metadata": {},
     "output_type": "execute_result"
    }
   ],
   "source": [
    "products_df.duplicated()"
   ]
  },
  {
   "cell_type": "code",
   "execution_count": 33,
   "metadata": {},
   "outputs": [
    {
     "data": {
      "text/plain": [
       "product_id     0\n",
       "category       0\n",
       "price          0\n",
       "stock_level    0\n",
       "dtype: int64"
      ]
     },
     "execution_count": 33,
     "metadata": {},
     "output_type": "execute_result"
    }
   ],
   "source": [
    "products_df.isnull().sum()"
   ]
  },
  {
   "cell_type": "code",
   "execution_count": 37,
   "metadata": {},
   "outputs": [
    {
     "data": {
      "text/plain": [
       "date                0\n",
       "product_id          0\n",
       "quantity            0\n",
       "discount_applied    0\n",
       "returned            0\n",
       "dtype: int64"
      ]
     },
     "execution_count": 37,
     "metadata": {},
     "output_type": "execute_result"
    }
   ],
   "source": [
    "sales_df.isnull().sum()"
   ]
  },
  {
   "cell_type": "code",
   "execution_count": 35,
   "metadata": {},
   "outputs": [
    {
     "data": {
      "text/html": [
       "<div>\n",
       "<style scoped>\n",
       "    .dataframe tbody tr th:only-of-type {\n",
       "        vertical-align: middle;\n",
       "    }\n",
       "\n",
       "    .dataframe tbody tr th {\n",
       "        vertical-align: top;\n",
       "    }\n",
       "\n",
       "    .dataframe thead th {\n",
       "        text-align: right;\n",
       "    }\n",
       "</style>\n",
       "<table border=\"1\" class=\"dataframe\">\n",
       "  <thead>\n",
       "    <tr style=\"text-align: right;\">\n",
       "      <th></th>\n",
       "      <th>price</th>\n",
       "    </tr>\n",
       "    <tr>\n",
       "      <th>category</th>\n",
       "      <th></th>\n",
       "    </tr>\n",
       "  </thead>\n",
       "  <tbody>\n",
       "    <tr>\n",
       "      <th>Beauty</th>\n",
       "      <td>404.199200</td>\n",
       "    </tr>\n",
       "    <tr>\n",
       "      <th>Books</th>\n",
       "      <td>535.202381</td>\n",
       "    </tr>\n",
       "    <tr>\n",
       "      <th>Clothing</th>\n",
       "      <td>424.234091</td>\n",
       "    </tr>\n",
       "    <tr>\n",
       "      <th>Electronics</th>\n",
       "      <td>371.647222</td>\n",
       "    </tr>\n",
       "    <tr>\n",
       "      <th>Home</th>\n",
       "      <td>474.436429</td>\n",
       "    </tr>\n",
       "  </tbody>\n",
       "</table>\n",
       "</div>"
      ],
      "text/plain": [
       "                  price\n",
       "category               \n",
       "Beauty       404.199200\n",
       "Books        535.202381\n",
       "Clothing     424.234091\n",
       "Electronics  371.647222\n",
       "Home         474.436429"
      ]
     },
     "execution_count": 35,
     "metadata": {},
     "output_type": "execute_result"
    }
   ],
   "source": [
    "products_df[[\"category\", \"price\"]].groupby(\"category\").mean()"
   ]
  },
  {
   "cell_type": "code",
   "execution_count": 36,
   "metadata": {},
   "outputs": [
    {
     "data": {
      "text/plain": [
       "category\n",
       "Beauty         25\n",
       "Clothing       22\n",
       "Books          21\n",
       "Electronics    18\n",
       "Home           14\n",
       "Name: count, dtype: int64"
      ]
     },
     "execution_count": 36,
     "metadata": {},
     "output_type": "execute_result"
    }
   ],
   "source": [
    "products_df[\"category\"].value_counts()"
   ]
  },
  {
   "cell_type": "code",
   "execution_count": 50,
   "metadata": {},
   "outputs": [],
   "source": [
    "df_union = pd.concat([sales_df, products_df]).drop_duplicates()"
   ]
  },
  {
   "cell_type": "code",
   "execution_count": 52,
   "metadata": {},
   "outputs": [
    {
     "data": {
      "text/html": [
       "<div>\n",
       "<style scoped>\n",
       "    .dataframe tbody tr th:only-of-type {\n",
       "        vertical-align: middle;\n",
       "    }\n",
       "\n",
       "    .dataframe tbody tr th {\n",
       "        vertical-align: top;\n",
       "    }\n",
       "\n",
       "    .dataframe thead th {\n",
       "        text-align: right;\n",
       "    }\n",
       "</style>\n",
       "<table border=\"1\" class=\"dataframe\">\n",
       "  <thead>\n",
       "    <tr style=\"text-align: right;\">\n",
       "      <th></th>\n",
       "      <th>date</th>\n",
       "      <th>product_id</th>\n",
       "      <th>quantity</th>\n",
       "      <th>discount_applied</th>\n",
       "      <th>returned</th>\n",
       "      <th>category</th>\n",
       "      <th>price</th>\n",
       "      <th>stock_level</th>\n",
       "    </tr>\n",
       "  </thead>\n",
       "  <tbody>\n",
       "    <tr>\n",
       "      <th>0</th>\n",
       "      <td>2023-07-01</td>\n",
       "      <td>66</td>\n",
       "      <td>2.0</td>\n",
       "      <td>0.0</td>\n",
       "      <td>1.0</td>\n",
       "      <td>NaN</td>\n",
       "      <td>NaN</td>\n",
       "      <td>NaN</td>\n",
       "    </tr>\n",
       "    <tr>\n",
       "      <th>1</th>\n",
       "      <td>2023-07-01</td>\n",
       "      <td>10</td>\n",
       "      <td>4.0</td>\n",
       "      <td>0.0</td>\n",
       "      <td>0.0</td>\n",
       "      <td>NaN</td>\n",
       "      <td>NaN</td>\n",
       "      <td>NaN</td>\n",
       "    </tr>\n",
       "    <tr>\n",
       "      <th>2</th>\n",
       "      <td>2023-07-01</td>\n",
       "      <td>5</td>\n",
       "      <td>2.0</td>\n",
       "      <td>0.0</td>\n",
       "      <td>0.0</td>\n",
       "      <td>NaN</td>\n",
       "      <td>NaN</td>\n",
       "      <td>NaN</td>\n",
       "    </tr>\n",
       "    <tr>\n",
       "      <th>3</th>\n",
       "      <td>2023-07-01</td>\n",
       "      <td>74</td>\n",
       "      <td>3.0</td>\n",
       "      <td>0.0</td>\n",
       "      <td>0.0</td>\n",
       "      <td>NaN</td>\n",
       "      <td>NaN</td>\n",
       "      <td>NaN</td>\n",
       "    </tr>\n",
       "    <tr>\n",
       "      <th>4</th>\n",
       "      <td>2023-07-01</td>\n",
       "      <td>97</td>\n",
       "      <td>1.0</td>\n",
       "      <td>0.0</td>\n",
       "      <td>1.0</td>\n",
       "      <td>NaN</td>\n",
       "      <td>NaN</td>\n",
       "      <td>NaN</td>\n",
       "    </tr>\n",
       "    <tr>\n",
       "      <th>...</th>\n",
       "      <td>...</td>\n",
       "      <td>...</td>\n",
       "      <td>...</td>\n",
       "      <td>...</td>\n",
       "      <td>...</td>\n",
       "      <td>...</td>\n",
       "      <td>...</td>\n",
       "      <td>...</td>\n",
       "    </tr>\n",
       "    <tr>\n",
       "      <th>95</th>\n",
       "      <td>NaT</td>\n",
       "      <td>96</td>\n",
       "      <td>NaN</td>\n",
       "      <td>NaN</td>\n",
       "      <td>NaN</td>\n",
       "      <td>Clothing</td>\n",
       "      <td>537.26</td>\n",
       "      <td>96.0</td>\n",
       "    </tr>\n",
       "    <tr>\n",
       "      <th>96</th>\n",
       "      <td>NaT</td>\n",
       "      <td>97</td>\n",
       "      <td>NaN</td>\n",
       "      <td>NaN</td>\n",
       "      <td>NaN</td>\n",
       "      <td>Beauty</td>\n",
       "      <td>61.31</td>\n",
       "      <td>154.0</td>\n",
       "    </tr>\n",
       "    <tr>\n",
       "      <th>97</th>\n",
       "      <td>NaT</td>\n",
       "      <td>98</td>\n",
       "      <td>NaN</td>\n",
       "      <td>NaN</td>\n",
       "      <td>NaN</td>\n",
       "      <td>Beauty</td>\n",
       "      <td>343.24</td>\n",
       "      <td>182.0</td>\n",
       "    </tr>\n",
       "    <tr>\n",
       "      <th>98</th>\n",
       "      <td>NaT</td>\n",
       "      <td>99</td>\n",
       "      <td>NaN</td>\n",
       "      <td>NaN</td>\n",
       "      <td>NaN</td>\n",
       "      <td>Electronics</td>\n",
       "      <td>143.07</td>\n",
       "      <td>32.0</td>\n",
       "    </tr>\n",
       "    <tr>\n",
       "      <th>99</th>\n",
       "      <td>NaT</td>\n",
       "      <td>100</td>\n",
       "      <td>NaN</td>\n",
       "      <td>NaN</td>\n",
       "      <td>NaN</td>\n",
       "      <td>Beauty</td>\n",
       "      <td>72.74</td>\n",
       "      <td>195.0</td>\n",
       "    </tr>\n",
       "  </tbody>\n",
       "</table>\n",
       "<p>167 rows × 8 columns</p>\n",
       "</div>"
      ],
      "text/plain": [
       "         date  product_id  quantity  discount_applied  returned     category  \\\n",
       "0  2023-07-01          66       2.0               0.0       1.0          NaN   \n",
       "1  2023-07-01          10       4.0               0.0       0.0          NaN   \n",
       "2  2023-07-01           5       2.0               0.0       0.0          NaN   \n",
       "3  2023-07-01          74       3.0               0.0       0.0          NaN   \n",
       "4  2023-07-01          97       1.0               0.0       1.0          NaN   \n",
       "..        ...         ...       ...               ...       ...          ...   \n",
       "95        NaT          96       NaN               NaN       NaN     Clothing   \n",
       "96        NaT          97       NaN               NaN       NaN       Beauty   \n",
       "97        NaT          98       NaN               NaN       NaN       Beauty   \n",
       "98        NaT          99       NaN               NaN       NaN  Electronics   \n",
       "99        NaT         100       NaN               NaN       NaN       Beauty   \n",
       "\n",
       "     price  stock_level  \n",
       "0      NaN          NaN  \n",
       "1      NaN          NaN  \n",
       "2      NaN          NaN  \n",
       "3      NaN          NaN  \n",
       "4      NaN          NaN  \n",
       "..     ...          ...  \n",
       "95  537.26         96.0  \n",
       "96   61.31        154.0  \n",
       "97  343.24        182.0  \n",
       "98  143.07         32.0  \n",
       "99   72.74        195.0  \n",
       "\n",
       "[167 rows x 8 columns]"
      ]
     },
     "execution_count": 52,
     "metadata": {},
     "output_type": "execute_result"
    }
   ],
   "source": [
    "df_union"
   ]
  },
  {
   "cell_type": "code",
   "execution_count": 59,
   "metadata": {},
   "outputs": [],
   "source": [
    "sales_df['net_sales'] = sales_df['quantity'] - sales_df['returned']"
   ]
  },
  {
   "cell_type": "code",
   "execution_count": 63,
   "metadata": {},
   "outputs": [],
   "source": [
    "sales_df['total_sales'] = sales_df['net_sales'] * products_df.set_index('product_id').loc[sales_df['product_id'], 'price'].values"
   ]
  },
  {
   "cell_type": "code",
   "execution_count": 64,
   "metadata": {},
   "outputs": [],
   "source": [
    "sales_df['discount_amount'] = sales_df['total_sales'] * sales_df['discount_applied'] * 0.1 "
   ]
  },
  {
   "cell_type": "code",
   "execution_count": 65,
   "metadata": {},
   "outputs": [],
   "source": [
    "sales_df['revenue_after_discount'] = sales_df['total_sales'] - sales_df['discount_amount']"
   ]
  },
  {
   "cell_type": "code",
   "execution_count": 66,
   "metadata": {},
   "outputs": [],
   "source": [
    "total_revenue_per_product = sales_df.groupby('product_id')['revenue_after_discount'].sum().reset_index() "
   ]
  },
  {
   "cell_type": "code",
   "execution_count": 67,
   "metadata": {},
   "outputs": [
    {
     "name": "stdout",
     "output_type": "stream",
     "text": [
      "    product_id  revenue_after_discount\n",
      "0            1                1678.212\n",
      "1            2                 214.270\n",
      "2            5                2080.470\n",
      "3            6                 146.760\n",
      "4            8                 631.620\n",
      "5            9                 327.384\n",
      "6           10                3499.360\n",
      "7           11                2672.814\n",
      "8           12                 126.846\n",
      "9           13                1278.495\n",
      "10          15                2252.340\n",
      "11          20                1866.210\n",
      "12          21                 675.396\n",
      "13          23                3750.000\n",
      "14          26                1289.196\n",
      "15          27                4033.125\n",
      "16          29                2093.481\n",
      "17          31                1811.760\n",
      "18          36                 137.402\n",
      "19          37                 887.922\n",
      "20          38                 657.990\n",
      "21          40                 347.112\n",
      "22          41                 891.620\n",
      "23          43                2524.547\n",
      "24          45                1006.920\n",
      "25          46                 576.300\n",
      "26          47                5417.400\n",
      "27          51                 245.340\n",
      "28          52                 785.538\n",
      "29          56                 362.540\n",
      "30          60                 221.520\n",
      "31          62                1014.000\n",
      "32          66                 181.640\n",
      "33          68                 169.917\n",
      "34          69                 952.686\n",
      "35          72                 483.680\n",
      "36          74                5818.680\n",
      "37          76                4094.500\n",
      "38          78                   0.000\n",
      "39          82                 518.310\n",
      "40          86                1321.760\n",
      "41          88                2050.120\n",
      "42          89                 674.973\n",
      "43          90                1162.686\n",
      "44          92                 532.332\n",
      "45          95                1458.990\n",
      "46          97                 220.716\n",
      "47         100                 290.960\n"
     ]
    }
   ],
   "source": [
    "print(total_revenue_per_product)"
   ]
  },
  {
   "cell_type": "code",
   "execution_count": 68,
   "metadata": {},
   "outputs": [],
   "source": [
    "top10_revenue = total_revenue_per_product.nlargest(10, 'revenue_after_discount') "
   ]
  },
  {
   "cell_type": "code",
   "execution_count": 69,
   "metadata": {},
   "outputs": [
    {
     "name": "stdout",
     "output_type": "stream",
     "text": [
      "    product_id  revenue_after_discount\n",
      "36          74                5818.680\n",
      "26          47                5417.400\n",
      "37          76                4094.500\n",
      "15          27                4033.125\n",
      "13          23                3750.000\n",
      "6           10                3499.360\n",
      "7           11                2672.814\n",
      "23          43                2524.547\n",
      "10          15                2252.340\n",
      "16          29                2093.481\n"
     ]
    }
   ],
   "source": [
    "print(top10_revenue)"
   ]
  },
  {
   "cell_type": "code",
   "execution_count": 71,
   "metadata": {},
   "outputs": [],
   "source": [
    "top10_quantity = sales_df.groupby('product_id')['net_sales'].sum().nlargest(10).reset_index() "
   ]
  },
  {
   "cell_type": "code",
   "execution_count": 72,
   "metadata": {},
   "outputs": [
    {
     "name": "stdout",
     "output_type": "stream",
     "text": [
      "   product_id  net_sales\n",
      "0          47         10\n",
      "1          90         10\n",
      "2          46          6\n",
      "3          74          6\n",
      "4          13          5\n",
      "5          23          5\n",
      "6          27          5\n",
      "7          36          5\n",
      "8          76          5\n",
      "9           1          4\n"
     ]
    }
   ],
   "source": [
    "print(top10_quantity)"
   ]
  },
  {
   "cell_type": "code",
   "execution_count": 73,
   "metadata": {},
   "outputs": [],
   "source": [
    "sales_df['return_rate'] = sales_df['returned'] / sales_df['quantity']"
   ]
  },
  {
   "cell_type": "code",
   "execution_count": 74,
   "metadata": {},
   "outputs": [
    {
     "name": "stdout",
     "output_type": "stream",
     "text": [
      "   product_id  return_rate\n",
      "0           1          0.0\n",
      "1           2          0.0\n",
      "2           6          0.0\n",
      "3           8          0.0\n",
      "4           9          0.0\n",
      "5          10          0.0\n",
      "6          11          0.0\n",
      "7          13          0.0\n",
      "8          15          0.0\n",
      "9          20          0.0\n"
     ]
    }
   ],
   "source": [
    "top10_return_rate = sales_df.groupby('product_id')['return_rate'].mean().nsmallest(10).reset_index() \n",
    "print(top10_return_rate)"
   ]
  },
  {
   "cell_type": "code",
   "execution_count": 75,
   "metadata": {},
   "outputs": [
    {
     "data": {
      "text/html": [
       "<div>\n",
       "<style scoped>\n",
       "    .dataframe tbody tr th:only-of-type {\n",
       "        vertical-align: middle;\n",
       "    }\n",
       "\n",
       "    .dataframe tbody tr th {\n",
       "        vertical-align: top;\n",
       "    }\n",
       "\n",
       "    .dataframe thead th {\n",
       "        text-align: right;\n",
       "    }\n",
       "</style>\n",
       "<table border=\"1\" class=\"dataframe\">\n",
       "  <thead>\n",
       "    <tr style=\"text-align: right;\">\n",
       "      <th></th>\n",
       "      <th>date</th>\n",
       "      <th>product_id</th>\n",
       "      <th>quantity</th>\n",
       "      <th>discount_applied</th>\n",
       "      <th>returned</th>\n",
       "      <th>net_sales</th>\n",
       "      <th>total_sales</th>\n",
       "      <th>discount_amount</th>\n",
       "      <th>revenue_after_discount</th>\n",
       "      <th>return_rate</th>\n",
       "    </tr>\n",
       "  </thead>\n",
       "  <tbody>\n",
       "    <tr>\n",
       "      <th>0</th>\n",
       "      <td>2023-07-01</td>\n",
       "      <td>66</td>\n",
       "      <td>2</td>\n",
       "      <td>0</td>\n",
       "      <td>1</td>\n",
       "      <td>1</td>\n",
       "      <td>181.64</td>\n",
       "      <td>0.000</td>\n",
       "      <td>181.640</td>\n",
       "      <td>0.5</td>\n",
       "    </tr>\n",
       "    <tr>\n",
       "      <th>1</th>\n",
       "      <td>2023-07-01</td>\n",
       "      <td>10</td>\n",
       "      <td>4</td>\n",
       "      <td>0</td>\n",
       "      <td>0</td>\n",
       "      <td>4</td>\n",
       "      <td>3499.36</td>\n",
       "      <td>0.000</td>\n",
       "      <td>3499.360</td>\n",
       "      <td>0.0</td>\n",
       "    </tr>\n",
       "    <tr>\n",
       "      <th>2</th>\n",
       "      <td>2023-07-01</td>\n",
       "      <td>5</td>\n",
       "      <td>2</td>\n",
       "      <td>0</td>\n",
       "      <td>0</td>\n",
       "      <td>2</td>\n",
       "      <td>1386.98</td>\n",
       "      <td>0.000</td>\n",
       "      <td>1386.980</td>\n",
       "      <td>0.0</td>\n",
       "    </tr>\n",
       "    <tr>\n",
       "      <th>3</th>\n",
       "      <td>2023-07-01</td>\n",
       "      <td>74</td>\n",
       "      <td>3</td>\n",
       "      <td>0</td>\n",
       "      <td>0</td>\n",
       "      <td>3</td>\n",
       "      <td>2909.34</td>\n",
       "      <td>0.000</td>\n",
       "      <td>2909.340</td>\n",
       "      <td>0.0</td>\n",
       "    </tr>\n",
       "    <tr>\n",
       "      <th>4</th>\n",
       "      <td>2023-07-01</td>\n",
       "      <td>97</td>\n",
       "      <td>1</td>\n",
       "      <td>0</td>\n",
       "      <td>1</td>\n",
       "      <td>0</td>\n",
       "      <td>0.00</td>\n",
       "      <td>0.000</td>\n",
       "      <td>0.000</td>\n",
       "      <td>1.0</td>\n",
       "    </tr>\n",
       "    <tr>\n",
       "      <th>...</th>\n",
       "      <td>...</td>\n",
       "      <td>...</td>\n",
       "      <td>...</td>\n",
       "      <td>...</td>\n",
       "      <td>...</td>\n",
       "      <td>...</td>\n",
       "      <td>...</td>\n",
       "      <td>...</td>\n",
       "      <td>...</td>\n",
       "      <td>...</td>\n",
       "    </tr>\n",
       "    <tr>\n",
       "      <th>66</th>\n",
       "      <td>2023-07-01</td>\n",
       "      <td>23</td>\n",
       "      <td>1</td>\n",
       "      <td>0</td>\n",
       "      <td>0</td>\n",
       "      <td>1</td>\n",
       "      <td>750.00</td>\n",
       "      <td>0.000</td>\n",
       "      <td>750.000</td>\n",
       "      <td>0.0</td>\n",
       "    </tr>\n",
       "    <tr>\n",
       "      <th>67</th>\n",
       "      <td>2023-07-01</td>\n",
       "      <td>1</td>\n",
       "      <td>4</td>\n",
       "      <td>1</td>\n",
       "      <td>0</td>\n",
       "      <td>4</td>\n",
       "      <td>1864.68</td>\n",
       "      <td>186.468</td>\n",
       "      <td>1678.212</td>\n",
       "      <td>0.0</td>\n",
       "    </tr>\n",
       "    <tr>\n",
       "      <th>68</th>\n",
       "      <td>2023-07-01</td>\n",
       "      <td>46</td>\n",
       "      <td>2</td>\n",
       "      <td>0</td>\n",
       "      <td>0</td>\n",
       "      <td>2</td>\n",
       "      <td>192.10</td>\n",
       "      <td>0.000</td>\n",
       "      <td>192.100</td>\n",
       "      <td>0.0</td>\n",
       "    </tr>\n",
       "    <tr>\n",
       "      <th>69</th>\n",
       "      <td>2023-07-01</td>\n",
       "      <td>21</td>\n",
       "      <td>2</td>\n",
       "      <td>1</td>\n",
       "      <td>0</td>\n",
       "      <td>2</td>\n",
       "      <td>750.44</td>\n",
       "      <td>75.044</td>\n",
       "      <td>675.396</td>\n",
       "      <td>0.0</td>\n",
       "    </tr>\n",
       "    <tr>\n",
       "      <th>70</th>\n",
       "      <td>2023-07-01</td>\n",
       "      <td>90</td>\n",
       "      <td>4</td>\n",
       "      <td>0</td>\n",
       "      <td>0</td>\n",
       "      <td>4</td>\n",
       "      <td>494.76</td>\n",
       "      <td>0.000</td>\n",
       "      <td>494.760</td>\n",
       "      <td>0.0</td>\n",
       "    </tr>\n",
       "  </tbody>\n",
       "</table>\n",
       "<p>71 rows × 10 columns</p>\n",
       "</div>"
      ],
      "text/plain": [
       "         date  product_id  quantity  discount_applied  returned  net_sales  \\\n",
       "0  2023-07-01          66         2                 0         1          1   \n",
       "1  2023-07-01          10         4                 0         0          4   \n",
       "2  2023-07-01           5         2                 0         0          2   \n",
       "3  2023-07-01          74         3                 0         0          3   \n",
       "4  2023-07-01          97         1                 0         1          0   \n",
       "..        ...         ...       ...               ...       ...        ...   \n",
       "66 2023-07-01          23         1                 0         0          1   \n",
       "67 2023-07-01           1         4                 1         0          4   \n",
       "68 2023-07-01          46         2                 0         0          2   \n",
       "69 2023-07-01          21         2                 1         0          2   \n",
       "70 2023-07-01          90         4                 0         0          4   \n",
       "\n",
       "    total_sales  discount_amount  revenue_after_discount  return_rate  \n",
       "0        181.64            0.000                 181.640          0.5  \n",
       "1       3499.36            0.000                3499.360          0.0  \n",
       "2       1386.98            0.000                1386.980          0.0  \n",
       "3       2909.34            0.000                2909.340          0.0  \n",
       "4          0.00            0.000                   0.000          1.0  \n",
       "..          ...              ...                     ...          ...  \n",
       "66       750.00            0.000                 750.000          0.0  \n",
       "67      1864.68          186.468                1678.212          0.0  \n",
       "68       192.10            0.000                 192.100          0.0  \n",
       "69       750.44           75.044                 675.396          0.0  \n",
       "70       494.76            0.000                 494.760          0.0  \n",
       "\n",
       "[71 rows x 10 columns]"
      ]
     },
     "execution_count": 75,
     "metadata": {},
     "output_type": "execute_result"
    }
   ],
   "source": [
    "sales_df"
   ]
  },
  {
   "cell_type": "code",
   "execution_count": 79,
   "metadata": {},
   "outputs": [],
   "source": [
    "products_df.set_index('product_id', inplace=True)"
   ]
  },
  {
   "cell_type": "code",
   "execution_count": 80,
   "metadata": {},
   "outputs": [],
   "source": [
    "sales_df['category'] = sales_df['product_id'].map(products_df['category'])"
   ]
  },
  {
   "cell_type": "code",
   "execution_count": 81,
   "metadata": {},
   "outputs": [
    {
     "name": "stdout",
     "output_type": "stream",
     "text": [
      "      category  revenue_after_discount\n",
      "0       Beauty               19080.512\n",
      "1        Books               16545.435\n",
      "2     Clothing               15469.838\n",
      "3  Electronics                9038.492\n",
      "4         Home                5301.563\n"
     ]
    }
   ],
   "source": [
    "category_revenue = sales_df.groupby('category')['revenue_after_discount'].sum().reset_index() \n",
    "print(category_revenue)"
   ]
  },
  {
   "cell_type": "code",
   "execution_count": 82,
   "metadata": {},
   "outputs": [
    {
     "name": "stdout",
     "output_type": "stream",
     "text": [
      "      category  revenue_after_discount\n",
      "0       Beauty              763.220480\n",
      "1        Books             1272.725769\n",
      "2     Clothing              909.990471\n",
      "3  Electronics             1004.276889\n",
      "4         Home              757.366143\n"
     ]
    }
   ],
   "source": [
    "category_avg = sales_df.groupby('category')['revenue_after_discount'].mean().reset_index() \n",
    "print(category_avg)"
   ]
  },
  {
   "cell_type": "code",
   "execution_count": 84,
   "metadata": {},
   "outputs": [
    {
     "name": "stdout",
     "output_type": "stream",
     "text": [
      "      category  return_rate\n",
      "0       Beauty     2.000000\n",
      "1        Books     0.000000\n",
      "2     Clothing     0.333333\n",
      "3  Electronics     1.500000\n",
      "4         Home     0.000000\n"
     ]
    }
   ],
   "source": [
    "category_return_rates = sales_df.groupby('category')['return_rate'].sum().reset_index() \n",
    "print(category_return_rates)"
   ]
  },
  {
   "cell_type": "code",
   "execution_count": 85,
   "metadata": {},
   "outputs": [
    {
     "name": "stdout",
     "output_type": "stream",
     "text": [
      "      category  discount_amount\n",
      "0       Beauty          443.628\n",
      "1        Books          404.825\n",
      "2     Clothing          820.232\n",
      "3  Electronics          244.058\n",
      "4         Home          152.187\n"
     ]
    }
   ],
   "source": [
    "category_dicount_impact = sales_df.groupby('category')['discount_amount'].sum().reset_index() \n",
    "print(category_dicount_impact)"
   ]
  },
  {
   "cell_type": "code",
   "execution_count": 87,
   "metadata": {},
   "outputs": [
    {
     "name": "stdout",
     "output_type": "stream",
     "text": [
      "Note: you may need to restart the kernel to use updated packages.\n",
      "Collecting matplotlib\n",
      "  Downloading matplotlib-3.9.3-cp312-cp312-win_amd64.whl.metadata (11 kB)\n",
      "Collecting contourpy>=1.0.1 (from matplotlib)\n",
      "  Downloading contourpy-1.3.1-cp312-cp312-win_amd64.whl.metadata (5.4 kB)\n",
      "Collecting cycler>=0.10 (from matplotlib)\n",
      "  Downloading cycler-0.12.1-py3-none-any.whl.metadata (3.8 kB)\n",
      "Collecting fonttools>=4.22.0 (from matplotlib)\n",
      "  Downloading fonttools-4.55.1-cp312-cp312-win_amd64.whl.metadata (168 kB)\n",
      "Collecting kiwisolver>=1.3.1 (from matplotlib)\n",
      "  Downloading kiwisolver-1.4.7-cp312-cp312-win_amd64.whl.metadata (6.4 kB)\n",
      "Requirement already satisfied: numpy>=1.23 in d:\\edstem\\python\\python excercises\\pr-venv\\lib\\site-packages (from matplotlib) (2.1.3)\n",
      "Requirement already satisfied: packaging>=20.0 in d:\\edstem\\python\\python excercises\\pr-venv\\lib\\site-packages (from matplotlib) (24.2)\n",
      "Collecting pillow>=8 (from matplotlib)\n",
      "  Downloading pillow-11.0.0-cp312-cp312-win_amd64.whl.metadata (9.3 kB)\n",
      "Collecting pyparsing>=2.3.1 (from matplotlib)\n",
      "  Downloading pyparsing-3.2.0-py3-none-any.whl.metadata (5.0 kB)\n",
      "Requirement already satisfied: python-dateutil>=2.7 in d:\\edstem\\python\\python excercises\\pr-venv\\lib\\site-packages (from matplotlib) (2.9.0.post0)\n",
      "Requirement already satisfied: six>=1.5 in d:\\edstem\\python\\python excercises\\pr-venv\\lib\\site-packages (from python-dateutil>=2.7->matplotlib) (1.17.0)\n",
      "Downloading matplotlib-3.9.3-cp312-cp312-win_amd64.whl (7.8 MB)\n",
      "   ---------------------------------------- 0.0/7.8 MB ? eta -:--:--\n",
      "   ----- ---------------------------------- 1.0/7.8 MB 6.3 MB/s eta 0:00:02\n",
      "   ------------ --------------------------- 2.4/7.8 MB 6.4 MB/s eta 0:00:01\n",
      "   ------------------ --------------------- 3.7/7.8 MB 6.2 MB/s eta 0:00:01\n",
      "   ------------------------- -------------- 5.0/7.8 MB 6.3 MB/s eta 0:00:01\n",
      "   -------------------------------- ------- 6.3/7.8 MB 6.1 MB/s eta 0:00:01\n",
      "   -------------------------------------- - 7.6/7.8 MB 6.2 MB/s eta 0:00:01\n",
      "   ---------------------------------------- 7.8/7.8 MB 6.0 MB/s eta 0:00:00\n",
      "Downloading contourpy-1.3.1-cp312-cp312-win_amd64.whl (220 kB)\n",
      "Downloading cycler-0.12.1-py3-none-any.whl (8.3 kB)\n",
      "Downloading fonttools-4.55.1-cp312-cp312-win_amd64.whl (2.2 MB)\n",
      "   ---------------------------------------- 0.0/2.2 MB ? eta -:--:--\n",
      "   ----------------------- ---------------- 1.3/2.2 MB 6.7 MB/s eta 0:00:01\n",
      "   ---------------------------------------- 2.2/2.2 MB 5.2 MB/s eta 0:00:00\n",
      "Downloading kiwisolver-1.4.7-cp312-cp312-win_amd64.whl (55 kB)\n",
      "Downloading pillow-11.0.0-cp312-cp312-win_amd64.whl (2.6 MB)\n",
      "   ---------------------------------------- 0.0/2.6 MB ? eta -:--:--\n",
      "   ------------ --------------------------- 0.8/2.6 MB 3.3 MB/s eta 0:00:01\n",
      "   ------------------------ --------------- 1.6/2.6 MB 4.2 MB/s eta 0:00:01\n",
      "   ------------------------------------ --- 2.4/2.6 MB 3.8 MB/s eta 0:00:01\n",
      "   ---------------------------------------- 2.6/2.6 MB 3.7 MB/s eta 0:00:00\n",
      "Downloading pyparsing-3.2.0-py3-none-any.whl (106 kB)\n",
      "Installing collected packages: pyparsing, pillow, kiwisolver, fonttools, cycler, contourpy, matplotlib\n",
      "Successfully installed contourpy-1.3.1 cycler-0.12.1 fonttools-4.55.1 kiwisolver-1.4.7 matplotlib-3.9.3 pillow-11.0.0 pyparsing-3.2.0\n"
     ]
    },
    {
     "name": "stderr",
     "output_type": "stream",
     "text": [
      "\n",
      "[notice] A new release of pip is available: 24.2 -> 24.3.1\n",
      "[notice] To update, run: d:\\Edstem\\Python\\Python Excercises\\pr-venv\\Scripts\\python.exe -m pip install --upgrade pip\n"
     ]
    }
   ],
   "source": [
    "pip install matplotlib"
   ]
  },
  {
   "cell_type": "code",
   "execution_count": 88,
   "metadata": {},
   "outputs": [],
   "source": [
    "import matplotlib.pyplot as plt"
   ]
  },
  {
   "cell_type": "code",
   "execution_count": 90,
   "metadata": {},
   "outputs": [
    {
     "data": {
      "text/plain": [
       "<Axes: >"
      ]
     },
     "execution_count": 90,
     "metadata": {},
     "output_type": "execute_result"
    },
    {
     "data": {
      "image/png": "[encoded data removed]",
      "text/plain": [
       "<Figure size 640x480 with 1 Axes>"
      ]
     },
     "metadata": {},
     "output_type": "display_data"
    }
   ],
   "source": [
    "category_revenue.plot.bar()"
   ]
  },
  {
   "cell_type": "code",
   "execution_count": null,
   "metadata": {},
   "outputs": [],
   "source": []
  }
 ],
 "metadata": {
  "kernelspec": {
   "display_name": "pr-venv",
   "language": "python",
   "name": "python3"
  },
  "language_info": {
   "codemirror_mode": {
    "name": "ipython",
    "version": 3
   },
   "file_extension": ".py",
   "mimetype": "text/x-python",
   "name": "python",
   "nbconvert_exporter": "python",
   "pygments_lexer": "ipython3",
   "version": "3.12.7"
  }
 },
 "nbformat": 4,
 "nbformat_minor": 2
}
