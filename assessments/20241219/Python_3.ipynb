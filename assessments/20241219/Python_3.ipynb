{
 "cells": [
  {
   "cell_type": "code",
   "execution_count": 8,
   "metadata": {},
   "outputs": [],
   "source": [
    "import json\n",
    "\n",
    "# Read JSON file\n",
    "with open('sample-dataset-3.json', 'r') as file:\n",
    "    transactions = json.load(file)"
   ]
  },
  {
   "cell_type": "code",
   "execution_count": 9,
   "metadata": {},
   "outputs": [
    {
     "data": {
      "text/plain": [
       "[{'transaction_id': 'T123456',\n",
       "  'timestamp': '2024-01-15T14:30:00',\n",
       "  'customer': {'id': 'CUS123',\n",
       "   'region': 'North',\n",
       "   'segment': 'Premium',\n",
       "   'join_date': '2023-01-01'},\n",
       "  'items': [{'product_id': 'P789',\n",
       "    'category': 'Electronics',\n",
       "    'subcategory': 'Smartphones',\n",
       "    'price': 499.99,\n",
       "    'quantity': 1,\n",
       "    'discount': 0.0},\n",
       "   {'product_id': 'P456',\n",
       "    'category': 'Accessories',\n",
       "    'subcategory': 'Phone Cases',\n",
       "    'price': 29.99,\n",
       "    'quantity': 2,\n",
       "    'discount': 5.0}],\n",
       "  'payment_method': 'credit_card',\n",
       "  'status': 'completed',\n",
       "  'shipping': {'method': 'express',\n",
       "   'cost': 15.99,\n",
       "   'address': {'city': 'Boston', 'state': 'MA', 'country': 'USA'}}},\n",
       " {'transaction_id': 'T123457',\n",
       "  'timestamp': '2024-01-15T14:45:00',\n",
       "  'customer': {'id': 'CUS456',\n",
       "   'region': 'South',\n",
       "   'segment': 'Standard',\n",
       "   'join_date': '2023-06-15'},\n",
       "  'items': [{'product_id': 'P234',\n",
       "    'category': 'Books',\n",
       "    'subcategory': 'Fiction',\n",
       "    'price': 24.99,\n",
       "    'quantity': 3,\n",
       "    'discount': 10.0}],\n",
       "  'payment_method': 'paypal',\n",
       "  'status': 'completed',\n",
       "  'shipping': {'method': 'standard',\n",
       "   'cost': 5.99,\n",
       "   'address': {'city': 'Miami', 'state': 'FL', 'country': 'USA'}}},\n",
       " {'transaction_id': 'T123458',\n",
       "  'timestamp': '2024-01-15T15:00:00',\n",
       "  'customer': {'id': 'CUS789',\n",
       "   'region': 'West',\n",
       "   'segment': 'Premium',\n",
       "   'join_date': '2022-03-20'},\n",
       "  'items': [{'product_id': 'P789',\n",
       "    'category': 'Electronics',\n",
       "    'subcategory': 'Smartphones',\n",
       "    'price': 499.99,\n",
       "    'quantity': 1,\n",
       "    'discount': 50.0},\n",
       "   {'product_id': 'P555',\n",
       "    'category': 'Electronics',\n",
       "    'subcategory': 'Tablets',\n",
       "    'price': 299.99,\n",
       "    'quantity': 1,\n",
       "    'discount': 0.0},\n",
       "   {'product_id': 'P777',\n",
       "    'category': 'Electronics',\n",
       "    'subcategory': 'Headphones',\n",
       "    'price': 199.99,\n",
       "    'quantity': 2,\n",
       "    'discount': 25.0}],\n",
       "  'payment_method': 'credit_card',\n",
       "  'status': 'pending',\n",
       "  'shipping': {'method': 'express',\n",
       "   'cost': 25.99,\n",
       "   'address': {'city': 'Los Angeles', 'state': 'CA', 'country': 'USA'}}},\n",
       " {'transaction_id': 'T123459',\n",
       "  'timestamp': '2024-01-15T15:15:00',\n",
       "  'customer': {'id': 'CUS101',\n",
       "   'region': 'East',\n",
       "   'segment': 'Standard',\n",
       "   'join_date': '2024-01-01'},\n",
       "  'items': [{'product_id': 'P333',\n",
       "    'category': 'Clothing',\n",
       "    'subcategory': 'Shirts',\n",
       "    'price': 39.99,\n",
       "    'quantity': 2,\n",
       "    'discount': 15.0},\n",
       "   {'product_id': 'P444',\n",
       "    'category': 'Clothing',\n",
       "    'subcategory': 'Pants',\n",
       "    'price': 59.99,\n",
       "    'quantity': 1,\n",
       "    'discount': 0.0}],\n",
       "  'payment_method': 'debit_card',\n",
       "  'status': 'completed',\n",
       "  'shipping': {'method': 'standard',\n",
       "   'cost': 7.99,\n",
       "   'address': {'city': 'New York', 'state': 'NY', 'country': 'USA'}}},\n",
       " {'transaction_id': 'T123460',\n",
       "  'timestamp': '2024-01-15T15:30:00',\n",
       "  'customer': {'id': 'CUS202',\n",
       "   'region': 'North',\n",
       "   'segment': 'Premium',\n",
       "   'join_date': '2023-08-15'},\n",
       "  'items': [{'product_id': 'P888',\n",
       "    'category': 'Home',\n",
       "    'subcategory': 'Kitchen',\n",
       "    'price': 199.99,\n",
       "    'quantity': 1,\n",
       "    'discount': 20.0}],\n",
       "  'payment_method': 'gift_card',\n",
       "  'status': 'cancelled',\n",
       "  'shipping': {'method': 'standard',\n",
       "   'cost': 9.99,\n",
       "   'address': {'city': 'Chicago', 'state': 'IL', 'country': 'USA'}}}]"
      ]
     },
     "execution_count": 9,
     "metadata": {},
     "output_type": "execute_result"
    }
   ],
   "source": [
    "transactions"
   ]
  },
  {
   "cell_type": "code",
   "execution_count": 3,
   "metadata": {},
   "outputs": [
    {
     "name": "stdout",
     "output_type": "stream",
     "text": [
      "Requirement already satisfied: flatten_json in c:\\repo_local_repo_location\\edstem_repo_file_collab_jerrishsir\\ecld-dataengineering-nov-2024-gayathri-assessments\\pr-venv\\lib\\site-packages (0.1.14)\n",
      "Requirement already satisfied: six in c:\\repo_local_repo_location\\edstem_repo_file_collab_jerrishsir\\ecld-dataengineering-nov-2024-gayathri-assessments\\pr-venv\\lib\\site-packages (from flatten_json) (1.17.0)\n",
      "Note: you may need to restart the kernel to use updated packages.\n"
     ]
    }
   ],
   "source": [
    "pip install flatten_json"
   ]
  },
  {
   "cell_type": "code",
   "execution_count": 4,
   "metadata": {},
   "outputs": [],
   "source": [
    "from flatten_json import flatten"
   ]
  },
  {
   "cell_type": "markdown",
   "metadata": {},
   "source": [
    "Flattening json file"
   ]
  },
  {
   "cell_type": "code",
   "execution_count": 10,
   "metadata": {},
   "outputs": [
    {
     "name": "stdout",
     "output_type": "stream",
     "text": [
      "[{'transaction_id': 'T123456', 'timestamp': '2024-01-15T14:30:00', 'customer_id': 'CUS123', 'customer_region': 'North', 'customer_segment': 'Premium', 'customer_join_date': '2023-01-01', 'items_0_product_id': 'P789', 'items_0_category': 'Electronics', 'items_0_subcategory': 'Smartphones', 'items_0_price': 499.99, 'items_0_quantity': 1, 'items_0_discount': 0.0, 'items_1_product_id': 'P456', 'items_1_category': 'Accessories', 'items_1_subcategory': 'Phone Cases', 'items_1_price': 29.99, 'items_1_quantity': 2, 'items_1_discount': 5.0, 'payment_method': 'credit_card', 'status': 'completed', 'shipping_method': 'express', 'shipping_cost': 15.99, 'shipping_address_city': 'Boston', 'shipping_address_state': 'MA', 'shipping_address_country': 'USA'}, {'transaction_id': 'T123457', 'timestamp': '2024-01-15T14:45:00', 'customer_id': 'CUS456', 'customer_region': 'South', 'customer_segment': 'Standard', 'customer_join_date': '2023-06-15', 'items_0_product_id': 'P234', 'items_0_category': 'Books', 'items_0_subcategory': 'Fiction', 'items_0_price': 24.99, 'items_0_quantity': 3, 'items_0_discount': 10.0, 'payment_method': 'paypal', 'status': 'completed', 'shipping_method': 'standard', 'shipping_cost': 5.99, 'shipping_address_city': 'Miami', 'shipping_address_state': 'FL', 'shipping_address_country': 'USA'}, {'transaction_id': 'T123458', 'timestamp': '2024-01-15T15:00:00', 'customer_id': 'CUS789', 'customer_region': 'West', 'customer_segment': 'Premium', 'customer_join_date': '2022-03-20', 'items_0_product_id': 'P789', 'items_0_category': 'Electronics', 'items_0_subcategory': 'Smartphones', 'items_0_price': 499.99, 'items_0_quantity': 1, 'items_0_discount': 50.0, 'items_1_product_id': 'P555', 'items_1_category': 'Electronics', 'items_1_subcategory': 'Tablets', 'items_1_price': 299.99, 'items_1_quantity': 1, 'items_1_discount': 0.0, 'items_2_product_id': 'P777', 'items_2_category': 'Electronics', 'items_2_subcategory': 'Headphones', 'items_2_price': 199.99, 'items_2_quantity': 2, 'items_2_discount': 25.0, 'payment_method': 'credit_card', 'status': 'pending', 'shipping_method': 'express', 'shipping_cost': 25.99, 'shipping_address_city': 'Los Angeles', 'shipping_address_state': 'CA', 'shipping_address_country': 'USA'}, {'transaction_id': 'T123459', 'timestamp': '2024-01-15T15:15:00', 'customer_id': 'CUS101', 'customer_region': 'East', 'customer_segment': 'Standard', 'customer_join_date': '2024-01-01', 'items_0_product_id': 'P333', 'items_0_category': 'Clothing', 'items_0_subcategory': 'Shirts', 'items_0_price': 39.99, 'items_0_quantity': 2, 'items_0_discount': 15.0, 'items_1_product_id': 'P444', 'items_1_category': 'Clothing', 'items_1_subcategory': 'Pants', 'items_1_price': 59.99, 'items_1_quantity': 1, 'items_1_discount': 0.0, 'payment_method': 'debit_card', 'status': 'completed', 'shipping_method': 'standard', 'shipping_cost': 7.99, 'shipping_address_city': 'New York', 'shipping_address_state': 'NY', 'shipping_address_country': 'USA'}, {'transaction_id': 'T123460', 'timestamp': '2024-01-15T15:30:00', 'customer_id': 'CUS202', 'customer_region': 'North', 'customer_segment': 'Premium', 'customer_join_date': '2023-08-15', 'items_0_product_id': 'P888', 'items_0_category': 'Home', 'items_0_subcategory': 'Kitchen', 'items_0_price': 199.99, 'items_0_quantity': 1, 'items_0_discount': 20.0, 'payment_method': 'gift_card', 'status': 'cancelled', 'shipping_method': 'standard', 'shipping_cost': 9.99, 'shipping_address_city': 'Chicago', 'shipping_address_state': 'IL', 'shipping_address_country': 'USA'}]\n"
     ]
    }
   ],
   "source": [
    "\n",
    "# Function for flattening\n",
    "# json\n",
    "\n",
    "\n",
    "def flatten_json(y):\n",
    "\tout = {}\n",
    "\n",
    "\tdef flatten(x, name=''):\n",
    "\n",
    "\t\t# If the Nested key-value\n",
    "\t\t# pair is of dict type\n",
    "\t\tif type(x) is dict:\n",
    "\n",
    "\t\t\tfor a in x:\n",
    "\t\t\t\tflatten(x[a], name + a + '_')\n",
    "\n",
    "\t\t# If the Nested key-value\n",
    "\t\t# pair is of list type\n",
    "\t\telif type(x) is list:\n",
    "\n",
    "\t\t\ti = 0\n",
    "\n",
    "\t\t\tfor a in x:\n",
    "\t\t\t\tflatten(a, name + str(i) + '_')\n",
    "\t\t\t\ti += 1\n",
    "\t\telse:\n",
    "\t\t\tout[name[:-1]] = x\n",
    "\n",
    "\tflatten(y)\n",
    "\treturn out\n",
    "\n",
    "# Apply flatten function to each transaction \n",
    "flattened_transactions = [flatten_json(transaction) for transaction in transactions] \n",
    "print(flattened_transactions)\n",
    "\n"
   ]
  },
  {
   "cell_type": "markdown",
   "metadata": {},
   "source": [
    "Extract unique categories"
   ]
  },
  {
   "cell_type": "code",
   "execution_count": 17,
   "metadata": {},
   "outputs": [
    {
     "name": "stdout",
     "output_type": "stream",
     "text": [
      "Unique Categories: {'Accessories', 'Fiction', 'Home', 'Shirts', 'Electronics', 'Clothing', 'Tablets', 'Headphones', 'Books', 'Kitchen', 'Pants', 'Smartphones', 'Phone Cases'}\n"
     ]
    }
   ],
   "source": [
    "def extract_unique_categories(transactions):\n",
    "    categories = set()\n",
    "    for transaction in transactions:\n",
    "        for key in transaction:\n",
    "            if 'category' in key:\n",
    "                categories.add(transaction[key])\n",
    "    return categories\n",
    "\n",
    "unique_categories = extract_unique_categories(flattened_transactions)\n",
    "print(\"Unique Categories:\", unique_categories)\n"
   ]
  },
  {
   "cell_type": "code",
   "execution_count": 11,
   "metadata": {},
   "outputs": [
    {
     "name": "stdout",
     "output_type": "stream",
     "text": [
      "Requirement already satisfied: pandas in c:\\repo_local_repo_location\\edstem_repo_file_collab_jerrishsir\\ecld-dataengineering-nov-2024-gayathri-assessments\\pr-venv\\lib\\site-packages (2.2.3)\n",
      "Requirement already satisfied: numpy>=1.26.0 in c:\\repo_local_repo_location\\edstem_repo_file_collab_jerrishsir\\ecld-dataengineering-nov-2024-gayathri-assessments\\pr-venv\\lib\\site-packages (from pandas) (2.2.0)\n",
      "Requirement already satisfied: python-dateutil>=2.8.2 in c:\\repo_local_repo_location\\edstem_repo_file_collab_jerrishsir\\ecld-dataengineering-nov-2024-gayathri-assessments\\pr-venv\\lib\\site-packages (from pandas) (2.9.0.post0)\n",
      "Requirement already satisfied: pytz>=2020.1 in c:\\repo_local_repo_location\\edstem_repo_file_collab_jerrishsir\\ecld-dataengineering-nov-2024-gayathri-assessments\\pr-venv\\lib\\site-packages (from pandas) (2024.2)\n",
      "Requirement already satisfied: tzdata>=2022.7 in c:\\repo_local_repo_location\\edstem_repo_file_collab_jerrishsir\\ecld-dataengineering-nov-2024-gayathri-assessments\\pr-venv\\lib\\site-packages (from pandas) (2024.2)\n",
      "Requirement already satisfied: six>=1.5 in c:\\repo_local_repo_location\\edstem_repo_file_collab_jerrishsir\\ecld-dataengineering-nov-2024-gayathri-assessments\\pr-venv\\lib\\site-packages (from python-dateutil>=2.8.2->pandas) (1.17.0)\n",
      "Note: you may need to restart the kernel to use updated packages.\n"
     ]
    }
   ],
   "source": [
    "pip install pandas"
   ]
  },
  {
   "cell_type": "code",
   "execution_count": 12,
   "metadata": {},
   "outputs": [],
   "source": [
    "import pandas as pd"
   ]
  },
  {
   "cell_type": "markdown",
   "metadata": {},
   "source": [
    "### 2. Create analysis functions"
   ]
  },
  {
   "cell_type": "markdown",
   "metadata": {},
   "source": [
    "Find top-selling products using sorted() with custom key"
   ]
  },
  {
   "cell_type": "code",
   "execution_count": 21,
   "metadata": {},
   "outputs": [
    {
     "name": "stdout",
     "output_type": "stream",
     "text": [
      "Top-Selling Products: [('P234', 3), ('P789', 2), ('P456', 2), ('P777', 2), ('P333', 2), ('P555', 1), ('P444', 1), ('P888', 1)]\n"
     ]
    }
   ],
   "source": [
    "def top_selling_products(transactions):\n",
    "    product_sales = {}\n",
    "    for transaction in transactions:\n",
    "        for i in range(len([key for key in transaction.keys() if key.startswith('items_') and key.endswith('_product_id')])):\n",
    "            product_id = transaction[f'items_{i}_product_id']\n",
    "            quantity = transaction[f'items_{i}_quantity']\n",
    "            if product_id not in product_sales:\n",
    "                product_sales[product_id] = 0\n",
    "            product_sales[product_id] += quantity\n",
    "    sorted_products = sorted(product_sales.items(), key=lambda x: x[1], reverse=True)\n",
    "    return sorted_products\n",
    "\n",
    "top_products = top_selling_products(flattened_transactions)\n",
    "print(\"Top-Selling Products:\", top_products)\n"
   ]
  },
  {
   "cell_type": "markdown",
   "metadata": {},
   "source": [
    "### 3. Create a report generation function"
   ]
  },
  {
   "cell_type": "markdown",
   "metadata": {},
   "source": [
    "Filters completed transactions using filter()\n"
   ]
  },
  {
   "cell_type": "code",
   "execution_count": 13,
   "metadata": {},
   "outputs": [],
   "source": [
    "def completed_transactions(transactions):\n",
    "     return list(filter(lambda x: x['status'] == 'Completed', transactions))"
   ]
  },
  {
   "cell_type": "markdown",
   "metadata": {},
   "source": [
    "Sorts data by multiple criteria using lambda"
   ]
  },
  {
   "cell_type": "code",
   "execution_count": 15,
   "metadata": {},
   "outputs": [],
   "source": [
    "def sort_by_criteria(transactions):\n",
    "     return sorted(transactions, key=lambda x: (x['region'], x['total_value']))"
   ]
  },
  {
   "cell_type": "markdown",
   "metadata": {},
   "source": [
    "Generates summary statistics for different time period"
   ]
  },
  {
   "cell_type": "code",
   "execution_count": 16,
   "metadata": {},
   "outputs": [],
   "source": [
    "def summary_statistics(transactions): \n",
    "    # For simplicity, only showing an example for event count by region \n",
    "    event_count_by_region = {} \n",
    "    for transaction in transactions:\n",
    "         region = transaction['region'] \n",
    "         if region not in event_count_by_region:\n",
    "             event_count_by_region[region] = 0 \n",
    "             event_count_by_region[region] += 1 \n",
    "             return event_count_by_region \n",
    "         def generate_report(transactions): \n",
    "            completed = completed_transactions(transactions)\n",
    "            sorted_transactions = sort_by_criteria(completed)\n",
    "            summary_stats = summary_statistics(sorted_transactions)\n",
    "            return { 'sorted_transactions': sorted_transactions, 'summary_statistics': summary_stats }\n",
    "            report = generate_report(flattened_transactions) \n",
    "            print(\"Report:\", report)"
   ]
  },
  {
   "cell_type": "code",
   "execution_count": null,
   "metadata": {},
   "outputs": [],
   "source": []
  }
 ],
 "metadata": {
  "kernelspec": {
   "display_name": "pr-venv",
   "language": "python",
   "name": "python3"
  },
  "language_info": {
   "codemirror_mode": {
    "name": "ipython",
    "version": 3
   },
   "file_extension": ".py",
   "mimetype": "text/x-python",
   "name": "python",
   "nbconvert_exporter": "python",
   "pygments_lexer": "ipython3",
   "version": "3.12.8"
  }
 },
 "nbformat": 4,
 "nbformat_minor": 2
}
