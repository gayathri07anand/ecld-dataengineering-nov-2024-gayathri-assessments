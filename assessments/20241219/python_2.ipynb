{
 "cells": [
  {
   "cell_type": "code",
   "execution_count": 1,
   "metadata": {},
   "outputs": [],
   "source": [
    "import json\n",
    "\n",
    "# Sample schema JSON\n",
    "schema_json = '''\n",
    "{\n",
    "    \"tables\": [\n",
    "        {\n",
    "            \"name\": \"customers\",\n",
    "            \"columns\": [\n",
    "                {\n",
    "                    \"name\": \"customer_id\",\n",
    "                    \"type\": \"string\",\n",
    "                    \"required\": true,\n",
    "                    \"validation\": {\n",
    "                        \"pattern\": \"^CUS[0-9]{6}$\"\n",
    "                    }\n",
    "                },\n",
    "                {\n",
    "                    \"name\": \"purchase_amount\",\n",
    "                    \"type\": \"decimal\",\n",
    "                    \"required\": true,\n",
    "                    \"validation\": {\n",
    "                        \"min\": 0,\n",
    "                        \"max\": 1000000\n",
    "                    }\n",
    "                }\n",
    "            ]\n",
    "        }\n",
    "    ]\n",
    "}\n",
    "'''\n",
    "\n",
    "# Load the schema\n",
    "schema = json.loads(schema_json)\n",
    "\n"
   ]
  },
  {
   "cell_type": "code",
   "execution_count": 2,
   "metadata": {},
   "outputs": [
    {
     "name": "stdout",
     "output_type": "stream",
     "text": [
      "{\n",
      "  \"customers\": [\n",
      "    {\n",
      "      \"name\": \"customer_id\",\n",
      "      \"type\": \"string\",\n",
      "      \"required\": true,\n",
      "      \"validation\": {\n",
      "        \"pattern\": \"^CUS[0-9]{6}$\"\n",
      "      }\n",
      "    },\n",
      "    {\n",
      "      \"name\": \"purchase_amount\",\n",
      "      \"type\": \"decimal\",\n",
      "      \"required\": true,\n",
      "      \"validation\": {\n",
      "        \"min\": 0,\n",
      "        \"max\": 1000000\n",
      "      }\n",
      "    }\n",
      "  ]\n",
      "}\n"
     ]
    }
   ],
   "source": [
    "# Function to extract column details\n",
    "def extract_column_details(schema):\n",
    "    tables = schema['tables']\n",
    "    table_mapping = {}\n",
    "    for table in tables:\n",
    "        table_name = table['name']\n",
    "        columns = table['columns']\n",
    "        column_specs = list(map(lambda col: {\n",
    "            \"name\": col['name'],\n",
    "            \"type\": col['type'],\n",
    "            \"required\": col.get('required', False),\n",
    "            \"validation\": col.get('validation', {})\n",
    "        }, columns))\n",
    "        table_mapping[table_name] = column_specs\n",
    "    return table_mapping\n",
    "\n",
    "# Extract column details\n",
    "table_column_mapping = extract_column_details(schema)\n",
    "print(json.dumps(table_column_mapping, indent=2))\n"
   ]
  },
  {
   "cell_type": "code",
   "execution_count": null,
   "metadata": {},
   "outputs": [],
   "source": [
    "# Function to sort validation errors\n",
    "def sort_validation_errors(errors):\n",
    "    severity_order = {\n",
    "        \"Missing required field\": 1,\n",
    "        \"Invalid type\": 2,\n",
    "        \"Pattern mismatch\": 3,\n",
    "        \"Value below minimum\": 4,\n",
    "        \"Value above maximum\": 5\n",
    "    }\n",
    "    \n",
    "    return sorted(errors, key=lambda x: (\n",
    "        severity_order.get(x['error'], 999),\n",
    "        x['table'],\n",
    "        x['column']\n",
    "    ))\n",
    "\n",
    "# Sort the validation errors\n",
    "sorted_errors = sort_validation_errors(validation_errors)\n",
    "print(json.dumps(sorted_errors, indent=2))\n"
   ]
  }
 ],
 "metadata": {
  "kernelspec": {
   "display_name": "pr-venv",
   "language": "python",
   "name": "python3"
  },
  "language_info": {
   "codemirror_mode": {
    "name": "ipython",
    "version": 3
   },
   "file_extension": ".py",
   "mimetype": "text/x-python",
   "name": "python",
   "nbconvert_exporter": "python",
   "pygments_lexer": "ipython3",
   "version": "3.12.8"
  }
 },
 "nbformat": 4,
 "nbformat_minor": 2
}
