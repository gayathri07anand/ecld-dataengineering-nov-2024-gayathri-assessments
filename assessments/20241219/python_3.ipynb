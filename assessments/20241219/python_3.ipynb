{
 "cells": [
  {
   "cell_type": "markdown",
   "metadata": {},
   "source": [
    "Excercise 3"
   ]
  },
  {
   "cell_type": "code",
   "execution_count": 1,
   "metadata": {},
   "outputs": [],
   "source": [
    "import json\n",
    "\n",
    "# Read JSON file\n",
    "with open('sample-dataset-3.json', 'r') as file:\n",
    "    ETL_data = json.load(file)"
   ]
  },
  {
   "cell_type": "code",
   "execution_count": 2,
   "metadata": {},
   "outputs": [
    {
     "data": {
      "text/plain": [
       "[{'transaction_id': 'T123456',\n",
       "  'timestamp': '2024-01-15T14:30:00',\n",
       "  'customer': {'id': 'CUS123',\n",
       "   'region': 'North',\n",
       "   'segment': 'Premium',\n",
       "   'join_date': '2023-01-01'},\n",
       "  'items': [{'product_id': 'P789',\n",
       "    'category': 'Electronics',\n",
       "    'subcategory': 'Smartphones',\n",
       "    'price': 499.99,\n",
       "    'quantity': 1,\n",
       "    'discount': 0.0},\n",
       "   {'product_id': 'P456',\n",
       "    'category': 'Accessories',\n",
       "    'subcategory': 'Phone Cases',\n",
       "    'price': 29.99,\n",
       "    'quantity': 2,\n",
       "    'discount': 5.0}],\n",
       "  'payment_method': 'credit_card',\n",
       "  'status': 'completed',\n",
       "  'shipping': {'method': 'express',\n",
       "   'cost': 15.99,\n",
       "   'address': {'city': 'Boston', 'state': 'MA', 'country': 'USA'}}},\n",
       " {'transaction_id': 'T123457',\n",
       "  'timestamp': '2024-01-15T14:45:00',\n",
       "  'customer': {'id': 'CUS456',\n",
       "   'region': 'South',\n",
       "   'segment': 'Standard',\n",
       "   'join_date': '2023-06-15'},\n",
       "  'items': [{'product_id': 'P234',\n",
       "    'category': 'Books',\n",
       "    'subcategory': 'Fiction',\n",
       "    'price': 24.99,\n",
       "    'quantity': 3,\n",
       "    'discount': 10.0}],\n",
       "  'payment_method': 'paypal',\n",
       "  'status': 'completed',\n",
       "  'shipping': {'method': 'standard',\n",
       "   'cost': 5.99,\n",
       "   'address': {'city': 'Miami', 'state': 'FL', 'country': 'USA'}}},\n",
       " {'transaction_id': 'T123458',\n",
       "  'timestamp': '2024-01-15T15:00:00',\n",
       "  'customer': {'id': 'CUS789',\n",
       "   'region': 'West',\n",
       "   'segment': 'Premium',\n",
       "   'join_date': '2022-03-20'},\n",
       "  'items': [{'product_id': 'P789',\n",
       "    'category': 'Electronics',\n",
       "    'subcategory': 'Smartphones',\n",
       "    'price': 499.99,\n",
       "    'quantity': 1,\n",
       "    'discount': 50.0},\n",
       "   {'product_id': 'P555',\n",
       "    'category': 'Electronics',\n",
       "    'subcategory': 'Tablets',\n",
       "    'price': 299.99,\n",
       "    'quantity': 1,\n",
       "    'discount': 0.0},\n",
       "   {'product_id': 'P777',\n",
       "    'category': 'Electronics',\n",
       "    'subcategory': 'Headphones',\n",
       "    'price': 199.99,\n",
       "    'quantity': 2,\n",
       "    'discount': 25.0}],\n",
       "  'payment_method': 'credit_card',\n",
       "  'status': 'pending',\n",
       "  'shipping': {'method': 'express',\n",
       "   'cost': 25.99,\n",
       "   'address': {'city': 'Los Angeles', 'state': 'CA', 'country': 'USA'}}},\n",
       " {'transaction_id': 'T123459',\n",
       "  'timestamp': '2024-01-15T15:15:00',\n",
       "  'customer': {'id': 'CUS101',\n",
       "   'region': 'East',\n",
       "   'segment': 'Standard',\n",
       "   'join_date': '2024-01-01'},\n",
       "  'items': [{'product_id': 'P333',\n",
       "    'category': 'Clothing',\n",
       "    'subcategory': 'Shirts',\n",
       "    'price': 39.99,\n",
       "    'quantity': 2,\n",
       "    'discount': 15.0},\n",
       "   {'product_id': 'P444',\n",
       "    'category': 'Clothing',\n",
       "    'subcategory': 'Pants',\n",
       "    'price': 59.99,\n",
       "    'quantity': 1,\n",
       "    'discount': 0.0}],\n",
       "  'payment_method': 'debit_card',\n",
       "  'status': 'completed',\n",
       "  'shipping': {'method': 'standard',\n",
       "   'cost': 7.99,\n",
       "   'address': {'city': 'New York', 'state': 'NY', 'country': 'USA'}}},\n",
       " {'transaction_id': 'T123460',\n",
       "  'timestamp': '2024-01-15T15:30:00',\n",
       "  'customer': {'id': 'CUS202',\n",
       "   'region': 'North',\n",
       "   'segment': 'Premium',\n",
       "   'join_date': '2023-08-15'},\n",
       "  'items': [{'product_id': 'P888',\n",
       "    'category': 'Home',\n",
       "    'subcategory': 'Kitchen',\n",
       "    'price': 199.99,\n",
       "    'quantity': 1,\n",
       "    'discount': 20.0}],\n",
       "  'payment_method': 'gift_card',\n",
       "  'status': 'cancelled',\n",
       "  'shipping': {'method': 'standard',\n",
       "   'cost': 9.99,\n",
       "   'address': {'city': 'Chicago', 'state': 'IL', 'country': 'USA'}}}]"
      ]
     },
     "execution_count": 2,
     "metadata": {},
     "output_type": "execute_result"
    }
   ],
   "source": [
    "ETL_data"
   ]
  },
  {
   "cell_type": "code",
   "execution_count": 3,
   "metadata": {},
   "outputs": [
    {
     "data": {
      "text/plain": [
       "list"
      ]
     },
     "execution_count": 3,
     "metadata": {},
     "output_type": "execute_result"
    }
   ],
   "source": [
    "type(ETL_data)"
   ]
  },
  {
   "cell_type": "code",
   "execution_count": 4,
   "metadata": {},
   "outputs": [
    {
     "name": "stdout",
     "output_type": "stream",
     "text": [
      "\u001b[1;31mSignature:\u001b[0m\n",
      "\u001b[0mjson\u001b[0m\u001b[1;33m.\u001b[0m\u001b[0mdump\u001b[0m\u001b[1;33m(\u001b[0m\u001b[1;33m\n",
      "\u001b[0m    \u001b[0mobj\u001b[0m\u001b[1;33m,\u001b[0m\u001b[1;33m\n",
      "\u001b[0m    \u001b[0mfp\u001b[0m\u001b[1;33m,\u001b[0m\u001b[1;33m\n",
      "\u001b[0m    \u001b[1;33m*\u001b[0m\u001b[1;33m,\u001b[0m\u001b[1;33m\n",
      "\u001b[0m    \u001b[0mskipkeys\u001b[0m\u001b[1;33m=\u001b[0m\u001b[1;32mFalse\u001b[0m\u001b[1;33m,\u001b[0m\u001b[1;33m\n",
      "\u001b[0m    \u001b[0mensure_ascii\u001b[0m\u001b[1;33m=\u001b[0m\u001b[1;32mTrue\u001b[0m\u001b[1;33m,\u001b[0m\u001b[1;33m\n",
      "\u001b[0m    \u001b[0mcheck_circular\u001b[0m\u001b[1;33m=\u001b[0m\u001b[1;32mTrue\u001b[0m\u001b[1;33m,\u001b[0m\u001b[1;33m\n",
      "\u001b[0m    \u001b[0mallow_nan\u001b[0m\u001b[1;33m=\u001b[0m\u001b[1;32mTrue\u001b[0m\u001b[1;33m,\u001b[0m\u001b[1;33m\n",
      "\u001b[0m    \u001b[0mcls\u001b[0m\u001b[1;33m=\u001b[0m\u001b[1;32mNone\u001b[0m\u001b[1;33m,\u001b[0m\u001b[1;33m\n",
      "\u001b[0m    \u001b[0mindent\u001b[0m\u001b[1;33m=\u001b[0m\u001b[1;32mNone\u001b[0m\u001b[1;33m,\u001b[0m\u001b[1;33m\n",
      "\u001b[0m    \u001b[0mseparators\u001b[0m\u001b[1;33m=\u001b[0m\u001b[1;32mNone\u001b[0m\u001b[1;33m,\u001b[0m\u001b[1;33m\n",
      "\u001b[0m    \u001b[0mdefault\u001b[0m\u001b[1;33m=\u001b[0m\u001b[1;32mNone\u001b[0m\u001b[1;33m,\u001b[0m\u001b[1;33m\n",
      "\u001b[0m    \u001b[0msort_keys\u001b[0m\u001b[1;33m=\u001b[0m\u001b[1;32mFalse\u001b[0m\u001b[1;33m,\u001b[0m\u001b[1;33m\n",
      "\u001b[0m    \u001b[1;33m**\u001b[0m\u001b[0mkw\u001b[0m\u001b[1;33m,\u001b[0m\u001b[1;33m\n",
      "\u001b[0m\u001b[1;33m)\u001b[0m\u001b[1;33m\u001b[0m\u001b[1;33m\u001b[0m\u001b[0m\n",
      "\u001b[1;31mDocstring:\u001b[0m\n",
      "Serialize ``obj`` as a JSON formatted stream to ``fp`` (a\n",
      "``.write()``-supporting file-like object).\n",
      "\n",
      "If ``skipkeys`` is true then ``dict`` keys that are not basic types\n",
      "(``str``, ``int``, ``float``, ``bool``, ``None``) will be skipped\n",
      "instead of raising a ``TypeError``.\n",
      "\n",
      "If ``ensure_ascii`` is false, then the strings written to ``fp`` can\n",
      "contain non-ASCII characters if they appear in strings contained in\n",
      "``obj``. Otherwise, all such characters are escaped in JSON strings.\n",
      "\n",
      "If ``check_circular`` is false, then the circular reference check\n",
      "for container types will be skipped and a circular reference will\n",
      "result in an ``RecursionError`` (or worse).\n",
      "\n",
      "If ``allow_nan`` is false, then it will be a ``ValueError`` to\n",
      "serialize out of range ``float`` values (``nan``, ``inf``, ``-inf``)\n",
      "in strict compliance of the JSON specification, instead of using the\n",
      "JavaScript equivalents (``NaN``, ``Infinity``, ``-Infinity``).\n",
      "\n",
      "If ``indent`` is a non-negative integer, then JSON array elements and\n",
      "object members will be pretty-printed with that indent level. An indent\n",
      "level of 0 will only insert newlines. ``None`` is the most compact\n",
      "representation.\n",
      "\n",
      "If specified, ``separators`` should be an ``(item_separator, key_separator)``\n",
      "tuple.  The default is ``(', ', ': ')`` if *indent* is ``None`` and\n",
      "``(',', ': ')`` otherwise.  To get the most compact JSON representation,\n",
      "you should specify ``(',', ':')`` to eliminate whitespace.\n",
      "\n",
      "``default(obj)`` is a function that should return a serializable version\n",
      "of obj or raise TypeError. The default simply raises TypeError.\n",
      "\n",
      "If *sort_keys* is true (default: ``False``), then the output of\n",
      "dictionaries will be sorted by key.\n",
      "\n",
      "To use a custom ``JSONEncoder`` subclass (e.g. one that overrides the\n",
      "``.default()`` method to serialize additional types), specify it with\n",
      "the ``cls`` kwarg; otherwise ``JSONEncoder`` is used.\n",
      "\u001b[1;31mFile:\u001b[0m      c:\\program files\\windowsapps\\pythonsoftwarefoundation.python.3.12_3.12.2288.0_x64__qbz5n2kfra8p0\\lib\\json\\__init__.py\n",
      "\u001b[1;31mType:\u001b[0m      function"
     ]
    }
   ],
   "source": [
    "json.dump?"
   ]
  },
  {
   "cell_type": "code",
   "execution_count": 5,
   "metadata": {},
   "outputs": [],
   "source": [
    "final = json.dumps(ETL_data)"
   ]
  },
  {
   "cell_type": "code",
   "execution_count": 6,
   "metadata": {},
   "outputs": [
    {
     "data": {
      "text/plain": [
       "str"
      ]
     },
     "execution_count": 6,
     "metadata": {},
     "output_type": "execute_result"
    }
   ],
   "source": [
    "type(final)"
   ]
  },
  {
   "cell_type": "code",
   "execution_count": 7,
   "metadata": {},
   "outputs": [],
   "source": [
    "final = json.loads(final)"
   ]
  },
  {
   "cell_type": "code",
   "execution_count": 8,
   "metadata": {},
   "outputs": [
    {
     "data": {
      "text/plain": [
       "list"
      ]
     },
     "execution_count": 8,
     "metadata": {},
     "output_type": "execute_result"
    }
   ],
   "source": [
    "type(final)"
   ]
  },
  {
   "cell_type": "code",
   "execution_count": 9,
   "metadata": {},
   "outputs": [
    {
     "name": "stdout",
     "output_type": "stream",
     "text": [
      "Requirement already satisfied: flatten_json in c:\\repo_local_repo_location\\edstem_repo_file_collab_jerrishsir\\ecld-dataengineering-nov-2024-gayathri-assessments\\pr-venv\\lib\\site-packages (0.1.14)\n",
      "Requirement already satisfied: six in c:\\repo_local_repo_location\\edstem_repo_file_collab_jerrishsir\\ecld-dataengineering-nov-2024-gayathri-assessments\\pr-venv\\lib\\site-packages (from flatten_json) (1.17.0)\n",
      "Note: you may need to restart the kernel to use updated packages.\n"
     ]
    }
   ],
   "source": [
    "pip install flatten_json"
   ]
  },
  {
   "cell_type": "code",
   "execution_count": 10,
   "metadata": {},
   "outputs": [],
   "source": [
    "from flatten_json import flatten"
   ]
  },
  {
   "cell_type": "code",
   "execution_count": null,
   "metadata": {},
   "outputs": [],
   "source": [
    "# Flatten function \n",
    "flattened_transactions = [flatten(ETL_data) for transaction in ETL_data] \n",
    "# View the flattened data \n",
    "for transaction in flattened_transactions:\n",
    "    print(json.dumps(transaction, indent=2))"
   ]
  },
  {
   "cell_type": "code",
   "execution_count": null,
   "metadata": {},
   "outputs": [],
   "source": [
    "flatten_json = flatten(final)"
   ]
  },
  {
   "cell_type": "code",
   "execution_count": 11,
   "metadata": {},
   "outputs": [
    {
     "name": "stdout",
     "output_type": "stream",
     "text": [
      "Requirement already satisfied: pandas in c:\\repo_local_repo_location\\edstem_repo_file_collab_jerrishsir\\ecld-dataengineering-nov-2024-gayathri-assessments\\pr-venv\\lib\\site-packages (2.2.3)\n",
      "Requirement already satisfied: numpy>=1.26.0 in c:\\repo_local_repo_location\\edstem_repo_file_collab_jerrishsir\\ecld-dataengineering-nov-2024-gayathri-assessments\\pr-venv\\lib\\site-packages (from pandas) (2.2.0)\n",
      "Requirement already satisfied: python-dateutil>=2.8.2 in c:\\repo_local_repo_location\\edstem_repo_file_collab_jerrishsir\\ecld-dataengineering-nov-2024-gayathri-assessments\\pr-venv\\lib\\site-packages (from pandas) (2.9.0.post0)\n",
      "Requirement already satisfied: pytz>=2020.1 in c:\\repo_local_repo_location\\edstem_repo_file_collab_jerrishsir\\ecld-dataengineering-nov-2024-gayathri-assessments\\pr-venv\\lib\\site-packages (from pandas) (2024.2)\n",
      "Requirement already satisfied: tzdata>=2022.7 in c:\\repo_local_repo_location\\edstem_repo_file_collab_jerrishsir\\ecld-dataengineering-nov-2024-gayathri-assessments\\pr-venv\\lib\\site-packages (from pandas) (2024.2)\n",
      "Requirement already satisfied: six>=1.5 in c:\\repo_local_repo_location\\edstem_repo_file_collab_jerrishsir\\ecld-dataengineering-nov-2024-gayathri-assessments\\pr-venv\\lib\\site-packages (from python-dateutil>=2.8.2->pandas) (1.17.0)\n",
      "Note: you may need to restart the kernel to use updated packages.\n"
     ]
    }
   ],
   "source": [
    "pip install pandas\n"
   ]
  },
  {
   "cell_type": "code",
   "execution_count": 12,
   "metadata": {},
   "outputs": [],
   "source": [
    "import pandas as pd"
   ]
  },
  {
   "cell_type": "code",
   "execution_count": 13,
   "metadata": {},
   "outputs": [],
   "source": [
    "### converting to dataframe"
   ]
  },
  {
   "cell_type": "code",
   "execution_count": 14,
   "metadata": {},
   "outputs": [],
   "source": [
    "data = pd.json_normalize(ETL_data)"
   ]
  },
  {
   "cell_type": "code",
   "execution_count": 15,
   "metadata": {},
   "outputs": [
    {
     "data": {
      "text/html": [
       "<div>\n",
       "<style scoped>\n",
       "    .dataframe tbody tr th:only-of-type {\n",
       "        vertical-align: middle;\n",
       "    }\n",
       "\n",
       "    .dataframe tbody tr th {\n",
       "        vertical-align: top;\n",
       "    }\n",
       "\n",
       "    .dataframe thead th {\n",
       "        text-align: right;\n",
       "    }\n",
       "</style>\n",
       "<table border=\"1\" class=\"dataframe\">\n",
       "  <thead>\n",
       "    <tr style=\"text-align: right;\">\n",
       "      <th></th>\n",
       "      <th>transaction_id</th>\n",
       "      <th>timestamp</th>\n",
       "      <th>items</th>\n",
       "      <th>payment_method</th>\n",
       "      <th>status</th>\n",
       "      <th>customer.id</th>\n",
       "      <th>customer.region</th>\n",
       "      <th>customer.segment</th>\n",
       "      <th>customer.join_date</th>\n",
       "      <th>shipping.method</th>\n",
       "      <th>shipping.cost</th>\n",
       "      <th>shipping.address.city</th>\n",
       "      <th>shipping.address.state</th>\n",
       "      <th>shipping.address.country</th>\n",
       "    </tr>\n",
       "  </thead>\n",
       "  <tbody>\n",
       "    <tr>\n",
       "      <th>0</th>\n",
       "      <td>T123456</td>\n",
       "      <td>2024-01-15T14:30:00</td>\n",
       "      <td>[{'product_id': 'P789', 'category': 'Electroni...</td>\n",
       "      <td>credit_card</td>\n",
       "      <td>completed</td>\n",
       "      <td>CUS123</td>\n",
       "      <td>North</td>\n",
       "      <td>Premium</td>\n",
       "      <td>2023-01-01</td>\n",
       "      <td>express</td>\n",
       "      <td>15.99</td>\n",
       "      <td>Boston</td>\n",
       "      <td>MA</td>\n",
       "      <td>USA</td>\n",
       "    </tr>\n",
       "    <tr>\n",
       "      <th>1</th>\n",
       "      <td>T123457</td>\n",
       "      <td>2024-01-15T14:45:00</td>\n",
       "      <td>[{'product_id': 'P234', 'category': 'Books', '...</td>\n",
       "      <td>paypal</td>\n",
       "      <td>completed</td>\n",
       "      <td>CUS456</td>\n",
       "      <td>South</td>\n",
       "      <td>Standard</td>\n",
       "      <td>2023-06-15</td>\n",
       "      <td>standard</td>\n",
       "      <td>5.99</td>\n",
       "      <td>Miami</td>\n",
       "      <td>FL</td>\n",
       "      <td>USA</td>\n",
       "    </tr>\n",
       "    <tr>\n",
       "      <th>2</th>\n",
       "      <td>T123458</td>\n",
       "      <td>2024-01-15T15:00:00</td>\n",
       "      <td>[{'product_id': 'P789', 'category': 'Electroni...</td>\n",
       "      <td>credit_card</td>\n",
       "      <td>pending</td>\n",
       "      <td>CUS789</td>\n",
       "      <td>West</td>\n",
       "      <td>Premium</td>\n",
       "      <td>2022-03-20</td>\n",
       "      <td>express</td>\n",
       "      <td>25.99</td>\n",
       "      <td>Los Angeles</td>\n",
       "      <td>CA</td>\n",
       "      <td>USA</td>\n",
       "    </tr>\n",
       "    <tr>\n",
       "      <th>3</th>\n",
       "      <td>T123459</td>\n",
       "      <td>2024-01-15T15:15:00</td>\n",
       "      <td>[{'product_id': 'P333', 'category': 'Clothing'...</td>\n",
       "      <td>debit_card</td>\n",
       "      <td>completed</td>\n",
       "      <td>CUS101</td>\n",
       "      <td>East</td>\n",
       "      <td>Standard</td>\n",
       "      <td>2024-01-01</td>\n",
       "      <td>standard</td>\n",
       "      <td>7.99</td>\n",
       "      <td>New York</td>\n",
       "      <td>NY</td>\n",
       "      <td>USA</td>\n",
       "    </tr>\n",
       "    <tr>\n",
       "      <th>4</th>\n",
       "      <td>T123460</td>\n",
       "      <td>2024-01-15T15:30:00</td>\n",
       "      <td>[{'product_id': 'P888', 'category': 'Home', 's...</td>\n",
       "      <td>gift_card</td>\n",
       "      <td>cancelled</td>\n",
       "      <td>CUS202</td>\n",
       "      <td>North</td>\n",
       "      <td>Premium</td>\n",
       "      <td>2023-08-15</td>\n",
       "      <td>standard</td>\n",
       "      <td>9.99</td>\n",
       "      <td>Chicago</td>\n",
       "      <td>IL</td>\n",
       "      <td>USA</td>\n",
       "    </tr>\n",
       "  </tbody>\n",
       "</table>\n",
       "</div>"
      ],
      "text/plain": [
       "  transaction_id            timestamp  \\\n",
       "0        T123456  2024-01-15T14:30:00   \n",
       "1        T123457  2024-01-15T14:45:00   \n",
       "2        T123458  2024-01-15T15:00:00   \n",
       "3        T123459  2024-01-15T15:15:00   \n",
       "4        T123460  2024-01-15T15:30:00   \n",
       "\n",
       "                                               items payment_method  \\\n",
       "0  [{'product_id': 'P789', 'category': 'Electroni...    credit_card   \n",
       "1  [{'product_id': 'P234', 'category': 'Books', '...         paypal   \n",
       "2  [{'product_id': 'P789', 'category': 'Electroni...    credit_card   \n",
       "3  [{'product_id': 'P333', 'category': 'Clothing'...     debit_card   \n",
       "4  [{'product_id': 'P888', 'category': 'Home', 's...      gift_card   \n",
       "\n",
       "      status customer.id customer.region customer.segment customer.join_date  \\\n",
       "0  completed      CUS123           North          Premium         2023-01-01   \n",
       "1  completed      CUS456           South         Standard         2023-06-15   \n",
       "2    pending      CUS789            West          Premium         2022-03-20   \n",
       "3  completed      CUS101            East         Standard         2024-01-01   \n",
       "4  cancelled      CUS202           North          Premium         2023-08-15   \n",
       "\n",
       "  shipping.method  shipping.cost shipping.address.city shipping.address.state  \\\n",
       "0         express          15.99                Boston                     MA   \n",
       "1        standard           5.99                 Miami                     FL   \n",
       "2         express          25.99           Los Angeles                     CA   \n",
       "3        standard           7.99              New York                     NY   \n",
       "4        standard           9.99               Chicago                     IL   \n",
       "\n",
       "  shipping.address.country  \n",
       "0                      USA  \n",
       "1                      USA  \n",
       "2                      USA  \n",
       "3                      USA  \n",
       "4                      USA  "
      ]
     },
     "execution_count": 15,
     "metadata": {},
     "output_type": "execute_result"
    }
   ],
   "source": [
    "data"
   ]
  },
  {
   "cell_type": "code",
   "execution_count": 16,
   "metadata": {},
   "outputs": [
    {
     "data": {
      "text/html": [
       "<div>\n",
       "<style scoped>\n",
       "    .dataframe tbody tr th:only-of-type {\n",
       "        vertical-align: middle;\n",
       "    }\n",
       "\n",
       "    .dataframe tbody tr th {\n",
       "        vertical-align: top;\n",
       "    }\n",
       "\n",
       "    .dataframe thead th {\n",
       "        text-align: right;\n",
       "    }\n",
       "</style>\n",
       "<table border=\"1\" class=\"dataframe\">\n",
       "  <thead>\n",
       "    <tr style=\"text-align: right;\">\n",
       "      <th></th>\n",
       "      <th>transaction_id</th>\n",
       "      <th>timestamp</th>\n",
       "      <th>items</th>\n",
       "      <th>payment_method</th>\n",
       "      <th>status</th>\n",
       "      <th>customer.id</th>\n",
       "      <th>customer.region</th>\n",
       "      <th>customer.segment</th>\n",
       "      <th>customer.join_date</th>\n",
       "      <th>shipping.method</th>\n",
       "      <th>shipping.cost</th>\n",
       "      <th>shipping.address.city</th>\n",
       "      <th>shipping.address.state</th>\n",
       "      <th>shipping.address.country</th>\n",
       "    </tr>\n",
       "  </thead>\n",
       "  <tbody>\n",
       "    <tr>\n",
       "      <th>0</th>\n",
       "      <td>False</td>\n",
       "      <td>False</td>\n",
       "      <td>False</td>\n",
       "      <td>False</td>\n",
       "      <td>False</td>\n",
       "      <td>False</td>\n",
       "      <td>False</td>\n",
       "      <td>False</td>\n",
       "      <td>False</td>\n",
       "      <td>False</td>\n",
       "      <td>False</td>\n",
       "      <td>False</td>\n",
       "      <td>False</td>\n",
       "      <td>False</td>\n",
       "    </tr>\n",
       "    <tr>\n",
       "      <th>1</th>\n",
       "      <td>False</td>\n",
       "      <td>False</td>\n",
       "      <td>False</td>\n",
       "      <td>False</td>\n",
       "      <td>False</td>\n",
       "      <td>False</td>\n",
       "      <td>False</td>\n",
       "      <td>False</td>\n",
       "      <td>False</td>\n",
       "      <td>False</td>\n",
       "      <td>False</td>\n",
       "      <td>False</td>\n",
       "      <td>False</td>\n",
       "      <td>False</td>\n",
       "    </tr>\n",
       "    <tr>\n",
       "      <th>2</th>\n",
       "      <td>False</td>\n",
       "      <td>False</td>\n",
       "      <td>False</td>\n",
       "      <td>False</td>\n",
       "      <td>False</td>\n",
       "      <td>False</td>\n",
       "      <td>False</td>\n",
       "      <td>False</td>\n",
       "      <td>False</td>\n",
       "      <td>False</td>\n",
       "      <td>False</td>\n",
       "      <td>False</td>\n",
       "      <td>False</td>\n",
       "      <td>False</td>\n",
       "    </tr>\n",
       "    <tr>\n",
       "      <th>3</th>\n",
       "      <td>False</td>\n",
       "      <td>False</td>\n",
       "      <td>False</td>\n",
       "      <td>False</td>\n",
       "      <td>False</td>\n",
       "      <td>False</td>\n",
       "      <td>False</td>\n",
       "      <td>False</td>\n",
       "      <td>False</td>\n",
       "      <td>False</td>\n",
       "      <td>False</td>\n",
       "      <td>False</td>\n",
       "      <td>False</td>\n",
       "      <td>False</td>\n",
       "    </tr>\n",
       "    <tr>\n",
       "      <th>4</th>\n",
       "      <td>False</td>\n",
       "      <td>False</td>\n",
       "      <td>False</td>\n",
       "      <td>False</td>\n",
       "      <td>False</td>\n",
       "      <td>False</td>\n",
       "      <td>False</td>\n",
       "      <td>False</td>\n",
       "      <td>False</td>\n",
       "      <td>False</td>\n",
       "      <td>False</td>\n",
       "      <td>False</td>\n",
       "      <td>False</td>\n",
       "      <td>False</td>\n",
       "    </tr>\n",
       "  </tbody>\n",
       "</table>\n",
       "</div>"
      ],
      "text/plain": [
       "   transaction_id  timestamp  items  payment_method  status  customer.id  \\\n",
       "0           False      False  False           False   False        False   \n",
       "1           False      False  False           False   False        False   \n",
       "2           False      False  False           False   False        False   \n",
       "3           False      False  False           False   False        False   \n",
       "4           False      False  False           False   False        False   \n",
       "\n",
       "   customer.region  customer.segment  customer.join_date  shipping.method  \\\n",
       "0            False             False               False            False   \n",
       "1            False             False               False            False   \n",
       "2            False             False               False            False   \n",
       "3            False             False               False            False   \n",
       "4            False             False               False            False   \n",
       "\n",
       "   shipping.cost  shipping.address.city  shipping.address.state  \\\n",
       "0          False                  False                   False   \n",
       "1          False                  False                   False   \n",
       "2          False                  False                   False   \n",
       "3          False                  False                   False   \n",
       "4          False                  False                   False   \n",
       "\n",
       "   shipping.address.country  \n",
       "0                     False  \n",
       "1                     False  \n",
       "2                     False  \n",
       "3                     False  \n",
       "4                     False  "
      ]
     },
     "execution_count": 16,
     "metadata": {},
     "output_type": "execute_result"
    }
   ],
   "source": [
    "data.isnull()"
   ]
  },
  {
   "cell_type": "code",
   "execution_count": 17,
   "metadata": {},
   "outputs": [
    {
     "data": {
      "text/plain": [
       "<bound method DataFrame.duplicated of   transaction_id            timestamp  \\\n",
       "0        T123456  2024-01-15T14:30:00   \n",
       "1        T123457  2024-01-15T14:45:00   \n",
       "2        T123458  2024-01-15T15:00:00   \n",
       "3        T123459  2024-01-15T15:15:00   \n",
       "4        T123460  2024-01-15T15:30:00   \n",
       "\n",
       "                                               items payment_method  \\\n",
       "0  [{'product_id': 'P789', 'category': 'Electroni...    credit_card   \n",
       "1  [{'product_id': 'P234', 'category': 'Books', '...         paypal   \n",
       "2  [{'product_id': 'P789', 'category': 'Electroni...    credit_card   \n",
       "3  [{'product_id': 'P333', 'category': 'Clothing'...     debit_card   \n",
       "4  [{'product_id': 'P888', 'category': 'Home', 's...      gift_card   \n",
       "\n",
       "      status customer.id customer.region customer.segment customer.join_date  \\\n",
       "0  completed      CUS123           North          Premium         2023-01-01   \n",
       "1  completed      CUS456           South         Standard         2023-06-15   \n",
       "2    pending      CUS789            West          Premium         2022-03-20   \n",
       "3  completed      CUS101            East         Standard         2024-01-01   \n",
       "4  cancelled      CUS202           North          Premium         2023-08-15   \n",
       "\n",
       "  shipping.method  shipping.cost shipping.address.city shipping.address.state  \\\n",
       "0         express          15.99                Boston                     MA   \n",
       "1        standard           5.99                 Miami                     FL   \n",
       "2         express          25.99           Los Angeles                     CA   \n",
       "3        standard           7.99              New York                     NY   \n",
       "4        standard           9.99               Chicago                     IL   \n",
       "\n",
       "  shipping.address.country  \n",
       "0                      USA  \n",
       "1                      USA  \n",
       "2                      USA  \n",
       "3                      USA  \n",
       "4                      USA  >"
      ]
     },
     "execution_count": 17,
     "metadata": {},
     "output_type": "execute_result"
    }
   ],
   "source": [
    "data.duplicated"
   ]
  },
  {
   "cell_type": "code",
   "execution_count": 18,
   "metadata": {},
   "outputs": [
    {
     "data": {
      "text/plain": [
       "(5, 14)"
      ]
     },
     "execution_count": 18,
     "metadata": {},
     "output_type": "execute_result"
    }
   ],
   "source": [
    "data.shape"
   ]
  },
  {
   "cell_type": "code",
   "execution_count": 19,
   "metadata": {},
   "outputs": [],
   "source": [
    "## Calculate total transaction values\n"
   ]
  },
  {
   "cell_type": "markdown",
   "metadata": {},
   "source": [
    "Create analysis functions that:\n",
    "\n",
    "Group transactions by region and calculate regional sales\n",
    "\n",
    "Find top-selling products using sorted() with custom key\n",
    "\n",
    "Calculate average transaction value by payment method"
   ]
  },
  {
   "cell_type": "code",
   "execution_count": null,
   "metadata": {},
   "outputs": [],
   "source": [
    "# # Extract unique categories using map() and set()\n",
    "unique_categories = set(data['category'].map(lambda x: x))\n",
    "\n",
    "print(unique_categories) "
   ]
  },
  {
   "cell_type": "code",
   "execution_count": null,
   "metadata": {},
   "outputs": [],
   "source": []
  },
  {
   "cell_type": "code",
   "execution_count": null,
   "metadata": {},
   "outputs": [],
   "source": []
  },
  {
   "cell_type": "markdown",
   "metadata": {},
   "source": [
    "Filters completed transactions using filter()\n"
   ]
  },
  {
   "cell_type": "code",
   "execution_count": null,
   "metadata": {},
   "outputs": [],
   "source": [
    "def completed_transactions(transactions):\n",
    "     return list(filter(lambda x: x['status'] == 'Completed', transactions))"
   ]
  },
  {
   "cell_type": "markdown",
   "metadata": {},
   "source": [
    "Sorts data by multiple criteria using lambda"
   ]
  },
  {
   "cell_type": "code",
   "execution_count": null,
   "metadata": {},
   "outputs": [],
   "source": [
    "def sort_by_criteria(transactions):\n",
    "     return sorted(transactions, key=lambda x: (x['region'], x['total_value']))"
   ]
  },
  {
   "cell_type": "markdown",
   "metadata": {},
   "source": [
    "Generates summary statistics for different time period"
   ]
  },
  {
   "cell_type": "code",
   "execution_count": null,
   "metadata": {},
   "outputs": [],
   "source": [
    "def summary_statistics(transactions): \n",
    "    # For simplicity, only showing an example for event count by region \n",
    "    event_count_by_region = {} \n",
    "    for transaction in transactions:\n",
    "         region = transaction['region'] \n",
    "         if region not in event_count_by_region:\n",
    "             event_count_by_region[region] = 0 \n",
    "             event_count_by_region[region] += 1 \n",
    "             return event_count_by_region \n",
    "         def generate_report(transactions): \n",
    "            completed = completed_transactions(transactions)\n",
    "            sorted_transactions = sort_by_criteria(completed)\n",
    "            summary_stats = summary_statistics(sorted_transactions)\n",
    "            return { 'sorted_transactions': sorted_transactions, 'summary_statistics': summary_stats }\n",
    "            report = generate_report(flattened_transactions) \n",
    "            print(\"Report:\", report)"
   ]
  },
  {
   "cell_type": "code",
   "execution_count": null,
   "metadata": {},
   "outputs": [],
   "source": []
  }
 ],
 "metadata": {
  "kernelspec": {
   "display_name": "pr-venv",
   "language": "python",
   "name": "python3"
  },
  "language_info": {
   "codemirror_mode": {
    "name": "ipython",
    "version": 3
   },
   "file_extension": ".py",
   "mimetype": "text/x-python",
   "name": "python",
   "nbconvert_exporter": "python",
   "pygments_lexer": "ipython3",
   "version": "3.12.8"
  }
 },
 "nbformat": 4,
 "nbformat_minor": 2
}
