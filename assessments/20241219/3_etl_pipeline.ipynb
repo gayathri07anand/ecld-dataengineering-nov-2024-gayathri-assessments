{
 "cells": [
  {
   "cell_type": "code",
   "execution_count": 47,
   "metadata": {},
   "outputs": [],
   "source": [
    "import json\n",
    "\n",
    "# Read JSON file\n",
    "with open('sample-dataset-3.json', 'r') as file:\n",
    "    transactions = json.load(file)"
   ]
  },
  {
   "cell_type": "markdown",
   "metadata": {},
   "source": [
    "1. Create a function that transforms raw transaction data:\n",
    "* Flatten nested JSON structures using lambda functions\n",
    "* Calculate total transaction values"
   ]
  },
  {
   "cell_type": "code",
   "execution_count": 57,
   "metadata": {},
   "outputs": [],
   "source": [
    "from functools import reduce\n",
    "\n",
    "def transform_transaction_data(transactions):\n",
    "    # Flatten each transaction and calculate the total transaction value\n",
    "    def flatten_transaction(transaction):\n",
    "        total_value = sum(item['price'] * item['quantity'] for item in transaction['items'])\n",
    "        return {\n",
    "        'transaction_id': transaction['transaction_id'],\n",
    "        'timestamp': transaction['timestamp'],\n",
    "        'customer_id': transaction['customer']['id'],\n",
    "        'customer_region': transaction['customer']['region'],\n",
    "        'payment_method': transaction['payment_method'],\n",
    "        'status': transaction['status'],\n",
    "        'total_value': total_value,\n",
    "        'items': [{'product_id': item['product_id'], 'quantity': item['quantity']} for item in transaction['items']],  # Ensure items is correctly structured\n",
    "        'categories': [item['category'] for item in transaction['items']]\n",
    "    }\n",
    "\n",
    "\n",
    "    # Apply flattening to all transactions\n",
    "    return list(map(lambda x: flatten_transaction(x), transactions))\n"
   ]
  },
  {
   "cell_type": "markdown",
   "metadata": {},
   "source": [
    "* Extract unique product categories using map() and set()"
   ]
  },
  {
   "cell_type": "code",
   "execution_count": 49,
   "metadata": {},
   "outputs": [],
   "source": [
    "def extract_unique_categories(transactions):\n",
    "    # Use map() to extract categories from each transaction and flatten into a single list\n",
    "    all_categories = list(reduce(lambda x, y: x + y, map(lambda x: x['categories'], transactions)))\n",
    "    return set(all_categories)\n"
   ]
  },
  {
   "cell_type": "markdown",
   "metadata": {},
   "source": [
    "* Group transactions by region and calculate regional sales"
   ]
  },
  {
   "cell_type": "code",
   "execution_count": 50,
   "metadata": {},
   "outputs": [],
   "source": [
    "from collections import defaultdict\n",
    "\n",
    "def regional_sales(transactions):\n",
    "    region_sales = defaultdict(float)\n",
    "    \n",
    "    for transaction in transactions:\n",
    "        region_sales[transaction['customer_region']] += transaction['total_value']\n",
    "    \n",
    "    return region_sales\n"
   ]
  },
  {
   "cell_type": "markdown",
   "metadata": {},
   "source": [
    "* Find top-selling products using sorted() with custom key"
   ]
  },
  {
   "cell_type": "code",
   "execution_count": 58,
   "metadata": {},
   "outputs": [],
   "source": [
    "def top_selling_products(transactions):\n",
    "    product_sales = defaultdict(int)\n",
    "    \n",
    "    for transaction in transactions:\n",
    "        # Ensure that 'items' is a list of dictionaries with 'product_id' and 'quantity'\n",
    "        for item in transaction['items']:\n",
    "            product_sales[item['product_id']] += item['quantity']\n",
    "    \n",
    "    # Sort products by total quantity sold in descending order\n",
    "    return sorted(product_sales.items(), key=lambda x: x[1], reverse=True)\n"
   ]
  },
  {
   "cell_type": "markdown",
   "metadata": {},
   "source": [
    "* Calculate average transaction value by payment method\n"
   ]
  },
  {
   "cell_type": "code",
   "execution_count": 52,
   "metadata": {},
   "outputs": [],
   "source": [
    "def average_transaction_value_by_payment(transactions):\n",
    "    payment_method_sales = defaultdict(list)\n",
    "    \n",
    "    # Group transactions by payment method and store total values\n",
    "    for transaction in transactions:\n",
    "        payment_method_sales[transaction['payment_method']].append(transaction['total_value'])\n",
    "    \n",
    "    # Calculate the average for each payment method\n",
    "    return {method: sum(values) / len(values) for method, values in payment_method_sales.items()}\n"
   ]
  },
  {
   "cell_type": "markdown",
   "metadata": {},
   "source": [
    "3. Create a report generation function that:\n",
    "* Filters completed transactions using filter()\n"
   ]
  },
  {
   "cell_type": "code",
   "execution_count": 53,
   "metadata": {},
   "outputs": [],
   "source": [
    "def filter_completed_transactions(transactions):\n",
    "    return list(filter(lambda x: x['status'] == 'completed', transactions))\n"
   ]
  },
  {
   "cell_type": "markdown",
   "metadata": {},
   "source": [
    "* Sorts data by multiple criteria using lambda"
   ]
  },
  {
   "cell_type": "code",
   "execution_count": 54,
   "metadata": {},
   "outputs": [],
   "source": [
    "def sort_transactions(transactions):\n",
    "    return sorted(transactions, key=lambda x: (x['customer_region'], x['total_value']), reverse=True)\n"
   ]
  },
  {
   "cell_type": "markdown",
   "metadata": {},
   "source": [
    "* Generates summary statistics for different time periods"
   ]
  },
  {
   "cell_type": "code",
   "execution_count": 55,
   "metadata": {},
   "outputs": [],
   "source": [
    "from collections import defaultdict\n",
    "from datetime import datetime\n",
    "\n",
    "def generate_monthly_report(transactions):\n",
    "    # Group transactions by month and year\n",
    "    monthly_sales = defaultdict(float)\n",
    "    \n",
    "    for transaction in transactions:\n",
    "        # Extract month and year from timestamp\n",
    "        date = datetime.strptime(transaction['timestamp'], '%Y-%m-%dT%H:%M:%S')\n",
    "        month_year = date.strftime('%Y-%m')\n",
    "        \n",
    "        # Aggregate sales by month-year\n",
    "        monthly_sales[month_year] += transaction['total_value']\n",
    "    \n",
    "    return monthly_sales\n"
   ]
  },
  {
   "cell_type": "markdown",
   "metadata": {},
   "source": [
    "Integrating All the functions"
   ]
  },
  {
   "cell_type": "code",
   "execution_count": 59,
   "metadata": {},
   "outputs": [
    {
     "name": "stdout",
     "output_type": "stream",
     "text": [
      "[{'transaction_id': 'T123456', 'timestamp': '2024-01-15T14:30:00', 'customer_id': 'CUS123', 'customer_region': 'North', 'payment_method': 'credit_card', 'status': 'completed', 'total_value': 559.97, 'items': [{'product_id': 'P789', 'quantity': 1}, {'product_id': 'P456', 'quantity': 2}], 'categories': ['Electronics', 'Accessories']}, {'transaction_id': 'T123457', 'timestamp': '2024-01-15T14:45:00', 'customer_id': 'CUS456', 'customer_region': 'South', 'payment_method': 'paypal', 'status': 'completed', 'total_value': 74.97, 'items': [{'product_id': 'P234', 'quantity': 3}], 'categories': ['Books']}, {'transaction_id': 'T123458', 'timestamp': '2024-01-15T15:00:00', 'customer_id': 'CUS789', 'customer_region': 'West', 'payment_method': 'credit_card', 'status': 'pending', 'total_value': 1199.96, 'items': [{'product_id': 'P789', 'quantity': 1}, {'product_id': 'P555', 'quantity': 1}, {'product_id': 'P777', 'quantity': 2}], 'categories': ['Electronics', 'Electronics', 'Electronics']}, {'transaction_id': 'T123459', 'timestamp': '2024-01-15T15:15:00', 'customer_id': 'CUS101', 'customer_region': 'East', 'payment_method': 'debit_card', 'status': 'completed', 'total_value': 139.97, 'items': [{'product_id': 'P333', 'quantity': 2}, {'product_id': 'P444', 'quantity': 1}], 'categories': ['Clothing', 'Clothing']}, {'transaction_id': 'T123460', 'timestamp': '2024-01-15T15:30:00', 'customer_id': 'CUS202', 'customer_region': 'North', 'payment_method': 'gift_card', 'status': 'cancelled', 'total_value': 199.99, 'items': [{'product_id': 'P888', 'quantity': 1}], 'categories': ['Home']}]\n",
      "Unique Categories: {'Clothing', 'Accessories', 'Home', 'Books', 'Electronics'}\n",
      "Regional Sales: defaultdict(<class 'float'>, {'North': 759.96, 'South': 74.97, 'West': 1199.96, 'East': 139.97})\n",
      "Top-Selling Products: [('P234', 3), ('P789', 2), ('P456', 2), ('P777', 2), ('P333', 2), ('P555', 1), ('P444', 1), ('P888', 1)]\n",
      "Average Transaction Value by Payment: {'credit_card': 879.965, 'paypal': 74.97, 'debit_card': 139.97, 'gift_card': 199.99}\n",
      "Monthly Sales Report: defaultdict(<class 'float'>, {'2024-01': 2174.86})\n"
     ]
    }
   ],
   "source": [
    "# Step 1: Transform raw transaction data\n",
    "flattened_transactions = transform_transaction_data(transactions)\n",
    "\n",
    "# Print flattened transactions to inspect the structure\n",
    "print(flattened_transactions)\n",
    "\n",
    "# Step 2: Analysis\n",
    "unique_categories = extract_unique_categories(flattened_transactions)\n",
    "region_sales_report = regional_sales(flattened_transactions)\n",
    "top_products = top_selling_products(flattened_transactions)  # This should now work as expected\n",
    "average_transaction_by_payment = average_transaction_value_by_payment(flattened_transactions)\n",
    "\n",
    "# Step 3: Reports\n",
    "completed_transactions = filter_completed_transactions(flattened_transactions)\n",
    "sorted_transactions = sort_transactions(flattened_transactions)\n",
    "monthly_sales_report = generate_monthly_report(flattened_transactions)\n",
    "\n",
    "# Output results\n",
    "print(f\"Unique Categories: {unique_categories}\")\n",
    "print(f\"Regional Sales: {region_sales_report}\")\n",
    "print(f\"Top-Selling Products: {top_products}\")\n",
    "print(f\"Average Transaction Value by Payment: {average_transaction_by_payment}\")\n",
    "print(f\"Monthly Sales Report: {monthly_sales_report}\")\n"
   ]
  },
  {
   "cell_type": "code",
   "execution_count": null,
   "metadata": {},
   "outputs": [],
   "source": []
  }
 ],
 "metadata": {
  "kernelspec": {
   "display_name": "pr-venv",
   "language": "python",
   "name": "python3"
  },
  "language_info": {
   "codemirror_mode": {
    "name": "ipython",
    "version": 3
   },
   "file_extension": ".py",
   "mimetype": "text/x-python",
   "name": "python",
   "nbconvert_exporter": "python",
   "pygments_lexer": "ipython3",
   "version": "3.12.8"
  }
 },
 "nbformat": 4,
 "nbformat_minor": 2
}
