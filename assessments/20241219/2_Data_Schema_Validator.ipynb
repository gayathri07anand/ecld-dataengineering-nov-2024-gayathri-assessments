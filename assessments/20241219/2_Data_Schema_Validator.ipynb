{
 "cells": [
  {
   "cell_type": "markdown",
   "metadata": {},
   "source": [
    "#### Loading Json File"
   ]
  },
  {
   "cell_type": "code",
   "execution_count": 3,
   "metadata": {},
   "outputs": [],
   "source": [
    "import json\n",
    "\n",
    "# Sample schema JSON\n",
    "schema_json = '''\n",
    "{\n",
    "    \"tables\": [\n",
    "        {\n",
    "            \"name\": \"customers\",\n",
    "            \"columns\": [\n",
    "                {\n",
    "                    \"name\": \"customer_id\",\n",
    "                    \"type\": \"string\",\n",
    "                    \"required\": true,\n",
    "                    \"validation\": {\n",
    "                        \"pattern\": \"^CUS[0-9]{6}$\"\n",
    "                    }\n",
    "                },\n",
    "                {\n",
    "                    \"name\": \"purchase_amount\",\n",
    "                    \"type\": \"decimal\",\n",
    "                    \"required\": true,\n",
    "                    \"validation\": {\n",
    "                        \"min\": 0,\n",
    "                        \"max\": 1000000\n",
    "                    }\n",
    "                }\n",
    "            ]\n",
    "        }\n",
    "    ]\n",
    "}\n",
    "'''\n",
    "\n",
    "# Load the schema\n",
    "schema = json.loads(schema_json)\n",
    "\n"
   ]
  },
  {
   "cell_type": "markdown",
   "metadata": {},
   "source": [
    "1. Create a function that extracts column details from the schema file:\n",
    "\n",
    "* Use lambda functions to transform complex column definitions\n",
    "* Create a mapping of table names to their column specifications\n"
   ]
  },
  {
   "cell_type": "code",
   "execution_count": 4,
   "metadata": {},
   "outputs": [],
   "source": [
    "import json\n",
    "\n",
    "def extract_column_details(schema_file):\n",
    "\n",
    "    with open(schema_file, 'r') as f:\n",
    "        schema = json.load(f)\n",
    "\n",
    "    table_columns = {}\n",
    "    for table in schema['tables']:\n",
    "        table_columns[table['name']] = [\n",
    "            {\n",
    "                \"name\": col['name'],\n",
    "                \"type\": col['type'],\n",
    "                \"required\": col.get('required', False),\n",
    "                \"validation\": col.get('validation', {})\n",
    "            } for col in table['columns']\n",
    "        ]\n",
    "    return table_columns\n"
   ]
  },
  {
   "cell_type": "markdown",
   "metadata": {},
   "source": [
    "2. Create a validation function that:\n",
    "* Filters required columns using filter() and lambda\n",
    "* Validates data types and constraints\n",
    "* Returns validation errors in a structured format"
   ]
  },
  {
   "cell_type": "code",
   "execution_count": 5,
   "metadata": {},
   "outputs": [],
   "source": [
    "def filter_column(columns):\n",
    "    return list(filter(lambda x: x, columns))"
   ]
  },
  {
   "cell_type": "code",
   "execution_count": 6,
   "metadata": {},
   "outputs": [],
   "source": [
    "def validate_data(data, table_schema):\n",
    "    errors = []\n",
    "\n",
    "    \n",
    "    for row in data:\n",
    "        for col in table_schema:\n",
    "            col_name = col['name']\n",
    "            col_type = col['type']\n",
    "            col_required = col['required']\n",
    "\n",
    "            \n",
    "            if col_required and col_name not in row:\n",
    "                errors.append({\n",
    "                    \"severity\": \"high\",\n",
    "                    \"table\": col.get('table_name', 'unknown'),\n",
    "                    \"column\": col_name,\n",
    "                    \"error\": \"Missing required column\"\n",
    "                })\n",
    "                continue\n",
    "\n",
    "            \n",
    "            if col_name in row and not isinstance(row[col_name], col_type):\n",
    "                errors.append({\n",
    "                    \"severity\": \"medium\",\n",
    "                    \"table\": col.get('table_name', 'unknown'),\n",
    "                    \"column\": col_name,\n",
    "                    \"error\": \"Incorrect data type\"\n",
    "                })\n",
    "\n",
    "            \n",
    "            if 'validation' in col:\n",
    "                for rule, value in col['validation'].items():\n",
    "                    if rule == 'min_length' and len(row[col_name]) < value:\n",
    "                        errors.append({\n",
    "                            \"severity\": \"low\",\n",
    "                            \"table\": col.get('table_name', 'unknown'),\n",
    "                            \"column\": col_name,\n",
    "                            \"error\": f\"Length is less than {value}\"\n",
    "                        })\n",
    "\n",
    "    return errors\n"
   ]
  },
  {
   "cell_type": "code",
   "execution_count": null,
   "metadata": {},
   "outputs": [],
   "source": []
  },
  {
   "cell_type": "markdown",
   "metadata": {},
   "source": [
    "3. Create a function that sorts validation errors by:\n",
    "* Error severity\n",
    "* Table name\n",
    "* Column name"
   ]
  },
  {
   "cell_type": "code",
   "execution_count": 7,
   "metadata": {},
   "outputs": [],
   "source": [
    "def sort_validation_errors(errors):\n",
    "    sorted_errors = sorted(errors, key=lambda x: (x['severity'], x['table'], x['column']))\n",
    "    return sorted_errors\n"
   ]
  },
  {
   "cell_type": "code",
   "execution_count": null,
   "metadata": {},
   "outputs": [],
   "source": []
  }
 ],
 "metadata": {
  "kernelspec": {
   "display_name": "pr-venv",
   "language": "python",
   "name": "python3"
  },
  "language_info": {
   "codemirror_mode": {
    "name": "ipython",
    "version": 3
   },
   "file_extension": ".py",
   "mimetype": "text/x-python",
   "name": "python",
   "nbconvert_exporter": "python",
   "pygments_lexer": "ipython3",
   "version": "3.12.8"
  }
 },
 "nbformat": 4,
 "nbformat_minor": 2
}
