{
 "cells": [
  {
   "cell_type": "markdown",
   "metadata": {},
   "source": [
    "Importing json file"
   ]
  },
  {
   "cell_type": "code",
   "execution_count": 1,
   "metadata": {},
   "outputs": [],
   "source": [
    "import json\n",
    "\n",
    "# Read JSON file\n",
    "with open('sample-dataset-1.json', 'r') as file:\n",
    "    logs = json.load(file)\n"
   ]
  },
  {
   "cell_type": "code",
   "execution_count": 2,
   "metadata": {},
   "outputs": [
    {
     "data": {
      "text/plain": [
       "[{'timestamp': '2024-01-15T10:30:00',\n",
       "  'server_id': 'srv-001',\n",
       "  'event_type': 'performance',\n",
       "  'metrics': {'cpu_usage': 85.5, 'memory_usage': 90.2, 'disk_usage': 72.8},\n",
       "  'status': 'warning',\n",
       "  'priority': 'high',\n",
       "  'message': 'High CPU utilization detected'},\n",
       " {'timestamp': '2024-01-15T10:31:00',\n",
       "  'server_id': 'srv-002',\n",
       "  'event_type': 'security',\n",
       "  'metrics': {'cpu_usage': 45.2, 'memory_usage': 60.8, 'disk_usage': 55.3},\n",
       "  'status': 'critical',\n",
       "  'priority': 'high',\n",
       "  'message': 'Failed login attempts exceeded threshold'},\n",
       " {'timestamp': '2024-01-15T10:32:00',\n",
       "  'server_id': 'srv-001',\n",
       "  'event_type': 'performance',\n",
       "  'metrics': {'cpu_usage': 92.3, 'memory_usage': 95.5, 'disk_usage': 75.0},\n",
       "  'status': 'critical',\n",
       "  'priority': 'high',\n",
       "  'message': 'System resources near exhaustion'},\n",
       " {'timestamp': '2024-01-15T10:33:00',\n",
       "  'server_id': 'srv-003',\n",
       "  'event_type': 'application',\n",
       "  'metrics': {'cpu_usage': 55.5, 'memory_usage': 45.2, 'disk_usage': 68.4},\n",
       "  'status': 'info',\n",
       "  'priority': 'low',\n",
       "  'message': 'Application deployment completed'},\n",
       " {'timestamp': '2024-01-15T10:34:00',\n",
       "  'server_id': 'srv-002',\n",
       "  'event_type': 'network',\n",
       "  'metrics': {'cpu_usage': 78.4, 'memory_usage': 82.3, 'disk_usage': 60.1},\n",
       "  'status': 'warning',\n",
       "  'priority': 'medium',\n",
       "  'message': 'Network latency increased'},\n",
       " {'timestamp': '2024-01-15T10:35:00',\n",
       "  'server_id': 'srv-004',\n",
       "  'event_type': 'performance',\n",
       "  'metrics': {'cpu_usage': 88.7, 'memory_usage': 75.6, 'disk_usage': 91.2},\n",
       "  'status': 'warning',\n",
       "  'priority': 'high',\n",
       "  'message': 'Disk usage approaching capacity'},\n",
       " {'timestamp': '2024-01-15T10:36:00',\n",
       "  'server_id': 'srv-001',\n",
       "  'event_type': 'security',\n",
       "  'metrics': {'cpu_usage': 65.4, 'memory_usage': 70.2, 'disk_usage': 73.8},\n",
       "  'status': 'warning',\n",
       "  'priority': 'medium',\n",
       "  'message': 'SSL certificate expiring soon'},\n",
       " {'timestamp': '2024-01-15T10:37:00',\n",
       "  'server_id': 'srv-003',\n",
       "  'event_type': 'database',\n",
       "  'metrics': {'cpu_usage': 82.6, 'memory_usage': 88.9, 'disk_usage': 65.7},\n",
       "  'status': 'critical',\n",
       "  'priority': 'high',\n",
       "  'message': 'Database connection pool exhausted'}]"
      ]
     },
     "execution_count": 2,
     "metadata": {},
     "output_type": "execute_result"
    }
   ],
   "source": [
    "# printing logs file\n",
    "logs"
   ]
  },
  {
   "cell_type": "markdown",
   "metadata": {},
   "source": [
    "All high-priority warnings using filter() and lambda"
   ]
  },
  {
   "cell_type": "code",
   "execution_count": 3,
   "metadata": {},
   "outputs": [],
   "source": [
    "# Defining a function for finding high priority warnings\n",
    "def high_priority_warnings(logs):\n",
    "    return list(filter(lambda log: log['priority'] == 'high' and log['status'] == 'warning', logs))\n"
   ]
  },
  {
   "cell_type": "markdown",
   "metadata": {},
   "source": [
    "Servers with CPU usage above 80% using list comprehension"
   ]
  },
  {
   "cell_type": "code",
   "execution_count": 4,
   "metadata": {},
   "outputs": [],
   "source": [
    "def high_cpu_usage_servers(logs):\n",
    "    return [log for log in logs if log['metrics']['cpu_usage'] > 80]\n"
   ]
  },
  {
   "cell_type": "markdown",
   "metadata": {},
   "source": [
    " Create a function that extracts unique server IDs using map() and set()"
   ]
  },
  {
   "cell_type": "code",
   "execution_count": 5,
   "metadata": {},
   "outputs": [],
   "source": [
    "def unique_server_ids(logs):\n",
    "    return set(map(lambda log: log['server_id'], logs))\n"
   ]
  },
  {
   "cell_type": "markdown",
   "metadata": {},
   "source": [
    "sorts the log entries by Timestamp (primary key) &Priority (secondary key) Using the sorted() function with a lambda key"
   ]
  },
  {
   "cell_type": "code",
   "execution_count": 6,
   "metadata": {},
   "outputs": [],
   "source": [
    "def sort_logs(logs):\n",
    "    return sorted(logs, key=lambda log: (log['timestamp'], log['priority']))\n"
   ]
  },
  {
   "cell_type": "markdown",
   "metadata": {},
   "source": [
    "Bonus: Create a function that generates a summary report showing:\n",
    "Count of events by priority,\n",
    "List of unique event types,\n",
    "Average CPU usage across all servers\n"
   ]
  },
  {
   "cell_type": "code",
   "execution_count": 7,
   "metadata": {},
   "outputs": [],
   "source": [
    "high_priority_logs = high_priority_warnings(logs) \n",
    "high_cpu_logs = high_cpu_usage_servers(logs) \n",
    "unique_ids = unique_server_ids(logs) \n",
    "sorted_logs = sort_logs(logs) \n"
   ]
  },
  {
   "cell_type": "code",
   "execution_count": 8,
   "metadata": {},
   "outputs": [
    {
     "name": "stdout",
     "output_type": "stream",
     "text": [
      "High Priority Warnings: [{'timestamp': '2024-01-15T10:30:00', 'server_id': 'srv-001', 'event_type': 'performance', 'metrics': {'cpu_usage': 85.5, 'memory_usage': 90.2, 'disk_usage': 72.8}, 'status': 'warning', 'priority': 'high', 'message': 'High CPU utilization detected'}, {'timestamp': '2024-01-15T10:35:00', 'server_id': 'srv-004', 'event_type': 'performance', 'metrics': {'cpu_usage': 88.7, 'memory_usage': 75.6, 'disk_usage': 91.2}, 'status': 'warning', 'priority': 'high', 'message': 'Disk usage approaching capacity'}]\n",
      "High CPU Usage Servers: [{'timestamp': '2024-01-15T10:30:00', 'server_id': 'srv-001', 'event_type': 'performance', 'metrics': {'cpu_usage': 85.5, 'memory_usage': 90.2, 'disk_usage': 72.8}, 'status': 'warning', 'priority': 'high', 'message': 'High CPU utilization detected'}, {'timestamp': '2024-01-15T10:32:00', 'server_id': 'srv-001', 'event_type': 'performance', 'metrics': {'cpu_usage': 92.3, 'memory_usage': 95.5, 'disk_usage': 75.0}, 'status': 'critical', 'priority': 'high', 'message': 'System resources near exhaustion'}, {'timestamp': '2024-01-15T10:35:00', 'server_id': 'srv-004', 'event_type': 'performance', 'metrics': {'cpu_usage': 88.7, 'memory_usage': 75.6, 'disk_usage': 91.2}, 'status': 'warning', 'priority': 'high', 'message': 'Disk usage approaching capacity'}, {'timestamp': '2024-01-15T10:37:00', 'server_id': 'srv-003', 'event_type': 'database', 'metrics': {'cpu_usage': 82.6, 'memory_usage': 88.9, 'disk_usage': 65.7}, 'status': 'critical', 'priority': 'high', 'message': 'Database connection pool exhausted'}]\n",
      "Unique Server IDs: {'srv-004', 'srv-002', 'srv-003', 'srv-001'}\n",
      "Sorted Logs: [{'timestamp': '2024-01-15T10:30:00', 'server_id': 'srv-001', 'event_type': 'performance', 'metrics': {'cpu_usage': 85.5, 'memory_usage': 90.2, 'disk_usage': 72.8}, 'status': 'warning', 'priority': 'high', 'message': 'High CPU utilization detected'}, {'timestamp': '2024-01-15T10:31:00', 'server_id': 'srv-002', 'event_type': 'security', 'metrics': {'cpu_usage': 45.2, 'memory_usage': 60.8, 'disk_usage': 55.3}, 'status': 'critical', 'priority': 'high', 'message': 'Failed login attempts exceeded threshold'}, {'timestamp': '2024-01-15T10:32:00', 'server_id': 'srv-001', 'event_type': 'performance', 'metrics': {'cpu_usage': 92.3, 'memory_usage': 95.5, 'disk_usage': 75.0}, 'status': 'critical', 'priority': 'high', 'message': 'System resources near exhaustion'}, {'timestamp': '2024-01-15T10:33:00', 'server_id': 'srv-003', 'event_type': 'application', 'metrics': {'cpu_usage': 55.5, 'memory_usage': 45.2, 'disk_usage': 68.4}, 'status': 'info', 'priority': 'low', 'message': 'Application deployment completed'}, {'timestamp': '2024-01-15T10:34:00', 'server_id': 'srv-002', 'event_type': 'network', 'metrics': {'cpu_usage': 78.4, 'memory_usage': 82.3, 'disk_usage': 60.1}, 'status': 'warning', 'priority': 'medium', 'message': 'Network latency increased'}, {'timestamp': '2024-01-15T10:35:00', 'server_id': 'srv-004', 'event_type': 'performance', 'metrics': {'cpu_usage': 88.7, 'memory_usage': 75.6, 'disk_usage': 91.2}, 'status': 'warning', 'priority': 'high', 'message': 'Disk usage approaching capacity'}, {'timestamp': '2024-01-15T10:36:00', 'server_id': 'srv-001', 'event_type': 'security', 'metrics': {'cpu_usage': 65.4, 'memory_usage': 70.2, 'disk_usage': 73.8}, 'status': 'warning', 'priority': 'medium', 'message': 'SSL certificate expiring soon'}, {'timestamp': '2024-01-15T10:37:00', 'server_id': 'srv-003', 'event_type': 'database', 'metrics': {'cpu_usage': 82.6, 'memory_usage': 88.9, 'disk_usage': 65.7}, 'status': 'critical', 'priority': 'high', 'message': 'Database connection pool exhausted'}]\n"
     ]
    }
   ],
   "source": [
    "print(\"High Priority Warnings:\", high_priority_logs) \n",
    "print(\"High CPU Usage Servers:\", high_cpu_logs) \n",
    "print(\"Unique Server IDs:\", unique_ids) \n",
    "print(\"Sorted Logs:\", sorted_logs)"
   ]
  },
  {
   "cell_type": "code",
   "execution_count": null,
   "metadata": {},
   "outputs": [],
   "source": []
  }
 ],
 "metadata": {
  "kernelspec": {
   "display_name": "pr-venv",
   "language": "python",
   "name": "python3"
  },
  "language_info": {
   "codemirror_mode": {
    "name": "ipython",
    "version": 3
   },
   "file_extension": ".py",
   "mimetype": "text/x-python",
   "name": "python",
   "nbconvert_exporter": "python",
   "pygments_lexer": "ipython3",
   "version": "3.12.8"
  }
 },
 "nbformat": 4,
 "nbformat_minor": 2
}
