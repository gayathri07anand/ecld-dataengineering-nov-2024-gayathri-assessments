{
 "cells": [
  {
   "cell_type": "code",
   "execution_count": 1,
   "id": "64a33141-7efc-4f1c-b47e-84edd25a605e",
   "metadata": {},
   "outputs": [],
   "source": [
    "import pandas as pd"
   ]
  },
  {
   "cell_type": "code",
   "execution_count": 2,
   "id": "37a2cd1c-40d6-4932-a338-55e7b2c5bbd0",
   "metadata": {},
   "outputs": [],
   "source": [
    "df=pd.read_csv('sample-log.txt')"
   ]
  },
  {
   "cell_type": "raw",
   "id": "d83f3a92-42cd-47e4-9be9-a5929d3338f6",
   "metadata": {},
   "source": []
  },
  {
   "cell_type": "code",
   "execution_count": 3,
   "id": "6cfa3c1e-1e9d-4dbf-9e75-9c89ff16edb5",
   "metadata": {},
   "outputs": [],
   "source": [
    "df.columns = ['timestamp', 'IP address', 'status_code', 'endpoint'] "
   ]
  },
  {
   "cell_type": "code",
   "execution_count": 4,
   "id": "a2650ce6-7c42-492e-84e8-46abf126343a",
   "metadata": {},
   "outputs": [
    {
     "data": {
      "text/html": [
       "<div>\n",
       "<style scoped>\n",
       "    .dataframe tbody tr th:only-of-type {\n",
       "        vertical-align: middle;\n",
       "    }\n",
       "\n",
       "    .dataframe tbody tr th {\n",
       "        vertical-align: top;\n",
       "    }\n",
       "\n",
       "    .dataframe thead th {\n",
       "        text-align: right;\n",
       "    }\n",
       "</style>\n",
       "<table border=\"1\" class=\"dataframe\">\n",
       "  <thead>\n",
       "    <tr style=\"text-align: right;\">\n",
       "      <th></th>\n",
       "      <th>timestamp</th>\n",
       "      <th>IP address</th>\n",
       "      <th>status_code</th>\n",
       "      <th>endpoint</th>\n",
       "    </tr>\n",
       "  </thead>\n",
       "  <tbody>\n",
       "    <tr>\n",
       "      <th>0</th>\n",
       "      <td>2024-03-18 10:15:25</td>\n",
       "      <td>192.168.1.102</td>\n",
       "      <td>404</td>\n",
       "      <td>/profile/user123</td>\n",
       "    </tr>\n",
       "    <tr>\n",
       "      <th>1</th>\n",
       "      <td>2024-03-18 10:15:30</td>\n",
       "      <td>192.168.1.101</td>\n",
       "      <td>200</td>\n",
       "      <td>/about</td>\n",
       "    </tr>\n",
       "    <tr>\n",
       "      <th>2</th>\n",
       "      <td>2024-03-18 10:15:45</td>\n",
       "      <td>192.168.1.103</td>\n",
       "      <td>200</td>\n",
       "      <td>/products</td>\n",
       "    </tr>\n",
       "    <tr>\n",
       "      <th>3</th>\n",
       "      <td>2024-03-18 10:16:01</td>\n",
       "      <td>192.168.1.104</td>\n",
       "      <td>500</td>\n",
       "      <td>/api/data</td>\n",
       "    </tr>\n",
       "    <tr>\n",
       "      <th>4</th>\n",
       "      <td>2024-03-18 10:16:15</td>\n",
       "      <td>192.168.1.102</td>\n",
       "      <td>200</td>\n",
       "      <td>/home</td>\n",
       "    </tr>\n",
       "    <tr>\n",
       "      <th>5</th>\n",
       "      <td>2024-03-18 10:16:30</td>\n",
       "      <td>192.168.1.105</td>\n",
       "      <td>404</td>\n",
       "      <td>/blog/post123</td>\n",
       "    </tr>\n",
       "    <tr>\n",
       "      <th>6</th>\n",
       "      <td>2024-03-18 10:16:45</td>\n",
       "      <td>192.168.1.101</td>\n",
       "      <td>200</td>\n",
       "      <td>/products</td>\n",
       "    </tr>\n",
       "    <tr>\n",
       "      <th>7</th>\n",
       "      <td>2024-03-18 10:17:00</td>\n",
       "      <td>192.168.1.106</td>\n",
       "      <td>200</td>\n",
       "      <td>/home</td>\n",
       "    </tr>\n",
       "    <tr>\n",
       "      <th>8</th>\n",
       "      <td>2024-03-18 10:17:15</td>\n",
       "      <td>192.168.1.107</td>\n",
       "      <td>403</td>\n",
       "      <td>/admin</td>\n",
       "    </tr>\n",
       "    <tr>\n",
       "      <th>9</th>\n",
       "      <td>2024-03-18 10:17:30</td>\n",
       "      <td>192.168.1.102</td>\n",
       "      <td>200</td>\n",
       "      <td>/about</td>\n",
       "    </tr>\n",
       "    <tr>\n",
       "      <th>10</th>\n",
       "      <td>2024-03-18 10:17:45</td>\n",
       "      <td>192.168.1.108</td>\n",
       "      <td>200</td>\n",
       "      <td>/contact</td>\n",
       "    </tr>\n",
       "    <tr>\n",
       "      <th>11</th>\n",
       "      <td>2024-03-18 10:18:00</td>\n",
       "      <td>192.168.1.109</td>\n",
       "      <td>500</td>\n",
       "      <td>/api/users</td>\n",
       "    </tr>\n",
       "    <tr>\n",
       "      <th>12</th>\n",
       "      <td>2024-03-18 10:18:15</td>\n",
       "      <td>192.168.1.101</td>\n",
       "      <td>200</td>\n",
       "      <td>/home</td>\n",
       "    </tr>\n",
       "    <tr>\n",
       "      <th>13</th>\n",
       "      <td>2024-03-18 10:18:30</td>\n",
       "      <td>192.168.1.110</td>\n",
       "      <td>200</td>\n",
       "      <td>/products</td>\n",
       "    </tr>\n",
       "    <tr>\n",
       "      <th>14</th>\n",
       "      <td>2024-03-18 10:18:45</td>\n",
       "      <td>192.168.1.102</td>\n",
       "      <td>404</td>\n",
       "      <td>/images/logo.png</td>\n",
       "    </tr>\n",
       "    <tr>\n",
       "      <th>15</th>\n",
       "      <td>2024-03-18 10:19:00</td>\n",
       "      <td>192.168.1.111</td>\n",
       "      <td>200</td>\n",
       "      <td>/home</td>\n",
       "    </tr>\n",
       "    <tr>\n",
       "      <th>16</th>\n",
       "      <td>2024-03-18 10:19:15</td>\n",
       "      <td>192.168.1.112</td>\n",
       "      <td>200</td>\n",
       "      <td>/about</td>\n",
       "    </tr>\n",
       "    <tr>\n",
       "      <th>17</th>\n",
       "      <td>2024-03-18 10:19:30</td>\n",
       "      <td>192.168.1.101</td>\n",
       "      <td>503</td>\n",
       "      <td>/api/orders</td>\n",
       "    </tr>\n",
       "    <tr>\n",
       "      <th>18</th>\n",
       "      <td>2024-03-18 10:19:45</td>\n",
       "      <td>192.168.1.113</td>\n",
       "      <td>200</td>\n",
       "      <td>/products</td>\n",
       "    </tr>\n",
       "    <tr>\n",
       "      <th>19</th>\n",
       "      <td>2024-03-18 10:20:00</td>\n",
       "      <td>192.168.1.102</td>\n",
       "      <td>200</td>\n",
       "      <td>/contact</td>\n",
       "    </tr>\n",
       "  </tbody>\n",
       "</table>\n",
       "</div>"
      ],
      "text/plain": [
       "              timestamp     IP address  status_code          endpoint\n",
       "0   2024-03-18 10:15:25  192.168.1.102          404  /profile/user123\n",
       "1   2024-03-18 10:15:30  192.168.1.101          200            /about\n",
       "2   2024-03-18 10:15:45  192.168.1.103          200         /products\n",
       "3   2024-03-18 10:16:01  192.168.1.104          500         /api/data\n",
       "4   2024-03-18 10:16:15  192.168.1.102          200             /home\n",
       "5   2024-03-18 10:16:30  192.168.1.105          404     /blog/post123\n",
       "6   2024-03-18 10:16:45  192.168.1.101          200         /products\n",
       "7   2024-03-18 10:17:00  192.168.1.106          200             /home\n",
       "8   2024-03-18 10:17:15  192.168.1.107          403            /admin\n",
       "9   2024-03-18 10:17:30  192.168.1.102          200            /about\n",
       "10  2024-03-18 10:17:45  192.168.1.108          200          /contact\n",
       "11  2024-03-18 10:18:00  192.168.1.109          500        /api/users\n",
       "12  2024-03-18 10:18:15  192.168.1.101          200             /home\n",
       "13  2024-03-18 10:18:30  192.168.1.110          200         /products\n",
       "14  2024-03-18 10:18:45  192.168.1.102          404  /images/logo.png\n",
       "15  2024-03-18 10:19:00  192.168.1.111          200             /home\n",
       "16  2024-03-18 10:19:15  192.168.1.112          200            /about\n",
       "17  2024-03-18 10:19:30  192.168.1.101          503       /api/orders\n",
       "18  2024-03-18 10:19:45  192.168.1.113          200         /products\n",
       "19  2024-03-18 10:20:00  192.168.1.102          200          /contact"
      ]
     },
     "execution_count": 4,
     "metadata": {},
     "output_type": "execute_result"
    }
   ],
   "source": [
    "df"
   ]
  },
  {
   "cell_type": "code",
   "execution_count": 7,
   "id": "4bfe624f-2fd7-44d9-8d6f-39f7b14776f6",
   "metadata": {},
   "outputs": [],
   "source": [
    "unique_ip_address = df['IP address'].nunique()\n"
   ]
  },
  {
   "cell_type": "code",
   "execution_count": 8,
   "id": "d2248f2e-b24e-4934-83b2-e9f3907bfb65",
   "metadata": {},
   "outputs": [
    {
     "name": "stdout",
     "output_type": "stream",
     "text": [
      "13\n"
     ]
    }
   ],
   "source": [
    "print(unique_ip_address)"
   ]
  },
  {
   "cell_type": "code",
   "execution_count": 13,
   "id": "85e71e1a-e2bb-4dee-a008-c66dfc4b452c",
   "metadata": {},
   "outputs": [],
   "source": [
    "total_count = df['IP address'].count()"
   ]
  },
  {
   "cell_type": "code",
   "execution_count": 14,
   "id": "492b2cb0-6d1d-4f2c-a5a9-3914b1e7c87b",
   "metadata": {},
   "outputs": [
    {
     "name": "stdout",
     "output_type": "stream",
     "text": [
      "20\n"
     ]
    }
   ],
   "source": [
    "print(total_count)"
   ]
  },
  {
   "cell_type": "code",
   "execution_count": null,
   "id": "4bbf1273-f5e0-4606-b05c-ca1536926d8c",
   "metadata": {},
   "outputs": [],
   "source": [
    "df['endpoint'].value_counts()[df['name'].value_counts() == df['name'].value_counts().max()]"
   ]
  },
  {
   "cell_type": "code",
   "execution_count": 29,
   "id": "1e4612ae-d5b7-46ff-9b2c-5979b10766a4",
   "metadata": {},
   "outputs": [
    {
     "name": "stdout",
     "output_type": "stream",
     "text": [
      "/products 4\n",
      "/home 4\n",
      "/about 3\n",
      "/contact 2\n",
      "/profile/user123 1\n",
      "/blog/post123 1\n",
      "/api/data 1\n",
      "/admin 1\n",
      "/api/users 1\n",
      "/images/logo.png 1\n",
      "/api/orders 1\n"
     ]
    }
   ],
   "source": [
    "for value, count in df[\"endpoint\"].value_counts().items():\n",
    "...     print(value, count)"
   ]
  },
  {
   "cell_type": "code",
   "execution_count": 35,
   "id": "ff9d8cf8-3d22-4e10-bb82-b74576a90b47",
   "metadata": {},
   "outputs": [
    {
     "name": "stdout",
     "output_type": "stream",
     "text": [
      "unique ip adress count 13\n",
      "total_count 20\n"
     ]
    }
   ],
   "source": [
    "print('unique ip adress count', df['IP address'].nunique())\n",
    "print('total_count',df['IP address'].count())\n"
   ]
  },
  {
   "cell_type": "code",
   "execution_count": 37,
   "id": "7760d630-38a8-405c-b363-a63604756f7a",
   "metadata": {},
   "outputs": [],
   "source": [
    "status_percentage = (df['status_code'] / 500) * 100"
   ]
  },
  {
   "cell_type": "code",
   "execution_count": 39,
   "id": "2b0d5864-42e4-41a8-bad3-bfa0cd7333bc",
   "metadata": {},
   "outputs": [
    {
     "name": "stdout",
     "output_type": "stream",
     "text": [
      "status_percentage 0      80.8\n",
      "1      40.0\n",
      "2      40.0\n",
      "3     100.0\n",
      "4      40.0\n",
      "5      80.8\n",
      "6      40.0\n",
      "7      40.0\n",
      "8      80.6\n",
      "9      40.0\n",
      "10     40.0\n",
      "11    100.0\n",
      "12     40.0\n",
      "13     40.0\n",
      "14     80.8\n",
      "15     40.0\n",
      "16     40.0\n",
      "17    100.6\n",
      "18     40.0\n",
      "19     40.0\n",
      "Name: status_code, dtype: float64\n"
     ]
    }
   ],
   "source": [
    "print ('status_percentage',\n",
    "       (df['status_code'] / 500) * 100)"
   ]
  },
  {
   "cell_type": "code",
   "execution_count": null,
   "id": "e8988a87-b380-495b-991b-597cd04f0284",
   "metadata": {},
   "outputs": [],
   "source": []
  }
 ],
 "metadata": {
  "kernelspec": {
   "display_name": "Python 3 (ipykernel)",
   "language": "python",
   "name": "python3"
  },
  "language_info": {
   "codemirror_mode": {
    "name": "ipython",
    "version": 3
   },
   "file_extension": ".py",
   "mimetype": "text/x-python",
   "name": "python",
   "nbconvert_exporter": "python",
   "pygments_lexer": "ipython3",
   "version": "3.12.7"
  }
 },
 "nbformat": 4,
 "nbformat_minor": 5
}
